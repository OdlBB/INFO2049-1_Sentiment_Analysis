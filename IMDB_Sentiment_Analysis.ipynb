{
  "cells": [
    {
      "cell_type": "markdown",
      "metadata": {
        "id": "9yW-OMw3wSYB"
      },
      "source": [
        "# Utils"
      ]
    },
    {
      "cell_type": "markdown",
      "metadata": {
        "id": "-mwt90Bj1PB_"
      },
      "source": [
        "Tuto pour démarrer :\n",
        "https://bhadreshpsavani.medium.com/tutorial-on-sentimental-analysis-using-pytorch-b1431306a2d7"
      ]
    },
    {
      "cell_type": "code",
      "execution_count": null,
      "metadata": {
        "colab": {
          "base_uri": "https://localhost:8080/"
        },
        "id": "smH29zmcyd43",
        "outputId": "c2ac7735-37e6-4932-fb7c-1e01fa6ed756"
      },
      "outputs": [
        {
          "output_type": "stream",
          "name": "stdout",
          "text": [
            "Mounted at /content/drive\n"
          ]
        }
      ],
      "source": [
        "from google.colab import drive\n",
        "drive.mount('/content/drive')"
      ]
    },
    {
      "cell_type": "markdown",
      "metadata": {
        "id": "eJlIuoU3Wun9"
      },
      "source": [
        "## Paths"
      ]
    },
    {
      "cell_type": "code",
      "execution_count": null,
      "metadata": {
        "id": "Y_25-QAQzKQg"
      },
      "outputs": [],
      "source": [
        "root = '/content/drive/MyDrive/Sentiment Analyis'\n",
        "#root = \"/Users/lucienavez/Library/CloudStorage/GoogleDrive-lucienavez@gmail.com/Mon Drive/Sentiment Analyis\""
      ]
    },
    {
      "cell_type": "markdown",
      "metadata": {
        "id": "jUDD5XUlwPw2"
      },
      "source": [
        "## Imports"
      ]
    },
    {
      "cell_type": "code",
      "execution_count": null,
      "metadata": {
        "colab": {
          "base_uri": "https://localhost:8080/"
        },
        "id": "WrokRsDpzV99",
        "outputId": "2d09d23d-fff3-413e-f4e9-25f0e8e05b06"
      },
      "outputs": [
        {
          "output_type": "stream",
          "name": "stdout",
          "text": [
            "Looking in indexes: https://pypi.org/simple, https://us-python.pkg.dev/colab-wheels/public/simple/\n",
            "Collecting bcolz-zipline\n",
            "  Downloading bcolz_zipline-1.2.5-cp37-cp37m-manylinux_2_17_x86_64.manylinux2014_x86_64.whl (4.7 MB)\n",
            "\u001b[K     |████████████████████████████████| 4.7 MB 15.6 MB/s \n",
            "\u001b[?25hRequirement already satisfied: numpy<1.23,>=1.16 in /usr/local/lib/python3.7/dist-packages (from bcolz-zipline) (1.21.6)\n",
            "Installing collected packages: bcolz-zipline\n",
            "Successfully installed bcolz-zipline-1.2.5\n",
            "Looking in indexes: https://pypi.org/simple, https://us-python.pkg.dev/colab-wheels/public/simple/\n",
            "Requirement already satisfied: gensim in /usr/local/lib/python3.7/dist-packages (3.6.0)\n",
            "Requirement already satisfied: six>=1.5.0 in /usr/local/lib/python3.7/dist-packages (from gensim) (1.15.0)\n",
            "Requirement already satisfied: numpy>=1.11.3 in /usr/local/lib/python3.7/dist-packages (from gensim) (1.21.6)\n",
            "Requirement already satisfied: smart-open>=1.2.1 in /usr/local/lib/python3.7/dist-packages (from gensim) (5.2.1)\n",
            "Requirement already satisfied: scipy>=0.18.1 in /usr/local/lib/python3.7/dist-packages (from gensim) (1.7.3)\n",
            "Looking in indexes: https://pypi.org/simple, https://us-python.pkg.dev/colab-wheels/public/simple/, https://download.pytorch.org/whl/nightly/cpu\n",
            "Requirement already satisfied: torch in /usr/local/lib/python3.7/dist-packages (1.12.1+cu113)\n",
            "Requirement already satisfied: torchvision in /usr/local/lib/python3.7/dist-packages (0.13.1+cu113)\n",
            "Requirement already satisfied: torchaudio in /usr/local/lib/python3.7/dist-packages (0.12.1+cu113)\n",
            "Requirement already satisfied: typing-extensions in /usr/local/lib/python3.7/dist-packages (from torch) (4.1.1)\n",
            "Requirement already satisfied: pillow!=8.3.*,>=5.3.0 in /usr/local/lib/python3.7/dist-packages (from torchvision) (7.1.2)\n",
            "Requirement already satisfied: numpy in /usr/local/lib/python3.7/dist-packages (from torchvision) (1.21.6)\n",
            "Requirement already satisfied: requests in /usr/local/lib/python3.7/dist-packages (from torchvision) (2.23.0)\n",
            "Requirement already satisfied: urllib3!=1.25.0,!=1.25.1,<1.26,>=1.21.1 in /usr/local/lib/python3.7/dist-packages (from requests->torchvision) (1.24.3)\n",
            "Requirement already satisfied: certifi>=2017.4.17 in /usr/local/lib/python3.7/dist-packages (from requests->torchvision) (2022.9.24)\n",
            "Requirement already satisfied: chardet<4,>=3.0.2 in /usr/local/lib/python3.7/dist-packages (from requests->torchvision) (3.0.4)\n",
            "Requirement already satisfied: idna<3,>=2.5 in /usr/local/lib/python3.7/dist-packages (from requests->torchvision) (2.10)\n",
            "Looking in indexes: https://pypi.org/simple, https://us-python.pkg.dev/colab-wheels/public/simple/\n",
            "Collecting contractions\n",
            "  Downloading contractions-0.1.72-py2.py3-none-any.whl (8.3 kB)\n",
            "Collecting textsearch>=0.0.21\n",
            "  Downloading textsearch-0.0.24-py2.py3-none-any.whl (7.6 kB)\n",
            "Collecting pyahocorasick\n",
            "  Downloading pyahocorasick-1.4.4-cp37-cp37m-manylinux_2_17_x86_64.manylinux2014_x86_64.whl (106 kB)\n",
            "\u001b[K     |████████████████████████████████| 106 kB 14.5 MB/s \n",
            "\u001b[?25hCollecting anyascii\n",
            "  Downloading anyascii-0.3.1-py3-none-any.whl (287 kB)\n",
            "\u001b[K     |████████████████████████████████| 287 kB 73.6 MB/s \n",
            "\u001b[?25hInstalling collected packages: pyahocorasick, anyascii, textsearch, contractions\n",
            "Successfully installed anyascii-0.3.1 contractions-0.1.72 pyahocorasick-1.4.4 textsearch-0.0.24\n",
            "Looking in indexes: https://pypi.org/simple, https://us-python.pkg.dev/colab-wheels/public/simple/\n",
            "Requirement already satisfied: bs4 in /usr/local/lib/python3.7/dist-packages (0.0.1)\n",
            "Requirement already satisfied: beautifulsoup4 in /usr/local/lib/python3.7/dist-packages (from bs4) (4.6.3)\n"
          ]
        },
        {
          "output_type": "stream",
          "name": "stderr",
          "text": [
            "[nltk_data] Downloading package wordnet to /root/nltk_data...\n",
            "[nltk_data] Downloading package stopwords to /root/nltk_data...\n",
            "[nltk_data]   Unzipping corpora/stopwords.zip.\n",
            "[nltk_data] Downloading package omw-1.4 to /root/nltk_data...\n",
            "[nltk_data] Downloading package words to /root/nltk_data...\n",
            "[nltk_data]   Unzipping corpora/words.zip.\n"
          ]
        }
      ],
      "source": [
        "# Missing libraries\n",
        "! pip install bcolz-zipline\n",
        "! pip install gensim\n",
        "! pip3 install --pre torch torchvision torchaudio --extra-index-url https://download.pytorch.org/whl/nightly/cpu\n",
        "! pip install contractions\n",
        "! pip install bs4\n",
        "\n",
        "# Basics\n",
        "import numpy as np\n",
        "import pandas as pd\n",
        "import time\n",
        "import re\n",
        "import pickle\n",
        "import bcolz\n",
        "import matplotlib.pyplot as plt\n",
        "import contractions\n",
        "import string\n",
        "from collections import Counter, OrderedDict\n",
        "from bs4 import BeautifulSoup\n",
        "\n",
        "# NLTK\n",
        "import nltk\n",
        "nltk.download('wordnet') # for lemmatization\n",
        "nltk.download('stopwords') # for stopwords\n",
        "nltk.download('omw-1.4') # Don't know why but code doesn't work (lemmization part)\n",
        "nltk.download('words')\n",
        "from nltk.stem import WordNetLemmatizer\n",
        "from nltk.corpus import stopwords\n",
        "\n",
        "# PyTorch\n",
        "import torch\n",
        "import torch.nn as nn\n",
        "import torch.nn.functional as F\n",
        "import torchtext\n",
        "from torchtext.vocab import vocab\n",
        "from torch.utils.data import TensorDataset, DataLoader\n",
        "from torchtext.datasets import IMDB\n",
        "\n",
        "\n",
        "# Scikit-Learn\n",
        "from sklearn.model_selection import train_test_split\n",
        "from sklearn.metrics import accuracy_score\n",
        "\n",
        "# Gensim\n",
        "import gensim\n",
        "from gensim.models import KeyedVectors\n",
        "from gensim.models.doc2vec import Doc2Vec, TaggedDocument\n",
        "from gensim.models import TfidfModel\n",
        "from gensim.corpora import Dictionary"
      ]
    },
    {
      "cell_type": "code",
      "execution_count": null,
      "metadata": {
        "colab": {
          "base_uri": "https://localhost:8080/"
        },
        "id": "9mdMjOQ5TOku",
        "outputId": "755056d3-1767-42ca-9a8d-90bfb9f8b70c"
      },
      "outputs": [
        {
          "output_type": "stream",
          "name": "stdout",
          "text": [
            "cuda\n"
          ]
        }
      ],
      "source": [
        "# Hardware\n",
        "if torch.cuda.is_available():\n",
        "    device = torch.device(\"cuda\") \n",
        "elif torch.backends.mps.is_available():\n",
        "    device = torch.device(\"mps\")\n",
        "else:\n",
        "    device = torch.device(\"cpu\")\n",
        "\n",
        "print(device)"
      ]
    },
    {
      "cell_type": "markdown",
      "metadata": {
        "id": "KnPsBKPUpZuy"
      },
      "source": [
        "# Parameters"
      ]
    },
    {
      "cell_type": "markdown",
      "metadata": {
        "id": "th-M7v_OTY7i"
      },
      "source": [
        "# Dataset\n",
        "The dataset is downloaded from the following link : \n",
        "https://www.kaggle.com/code/lakshmi25npathi/sentiment-analysis-of-imdb-movie-reviews/data\n",
        "\n",
        "This dataset is made of movie review available on amazon\n",
        "\n",
        "The dataset follows the following format :\n",
        "\n",
        "\n",
        "2 fields:\n",
        "\n",
        "- review: text of the review\n",
        "- sentiment: 2 possible values (positive or negative)"
      ]
    },
    {
      "cell_type": "code",
      "execution_count": null,
      "metadata": {
        "colab": {
          "base_uri": "https://localhost:8080/"
        },
        "id": "qHYgzvwIYcIn",
        "outputId": "f9332ae9-73d5-4f1a-a577-c3acd4d7e9b5"
      },
      "outputs": [
        {
          "output_type": "stream",
          "name": "stdout",
          "text": [
            "Size:  (50000, 2)\n",
            "                                              review sentiment\n",
            "0  One of the other reviewers has mentioned that ...  positive\n",
            "1  A wonderful little production. <br /><br />The...  positive\n",
            "2  I thought this was a wonderful way to spend ti...  positive\n",
            "3  Basically there's a family where a little boy ...  negative\n",
            "4  Petter Mattei's \"Love in the Time of Money\" is...  positive\n"
          ]
        }
      ],
      "source": [
        "#Load the data\n",
        "data_path = root + '/data/IMDB Dataset.csv'\n",
        "\n",
        "df = pd.read_csv(data_path, encoding='latin-1')\n",
        "print(\"Size: \", df.shape)\n",
        "print(df.head())"
      ]
    },
    {
      "cell_type": "code",
      "execution_count": null,
      "metadata": {
        "colab": {
          "base_uri": "https://localhost:8080/"
        },
        "id": "Q--LPdQqmFZ_",
        "outputId": "e8417339-d9b7-479f-df46-43505b1056f2"
      },
      "outputs": [
        {
          "data": {
            "text/plain": [
              "positive    25000\n",
              "negative    25000\n",
              "Name: sentiment, dtype: int64"
            ]
          },
          "execution_count": 6,
          "metadata": {},
          "output_type": "execute_result"
        }
      ],
      "source": [
        "df['sentiment'].value_counts()"
      ]
    },
    {
      "cell_type": "code",
      "execution_count": null,
      "metadata": {
        "colab": {
          "base_uri": "https://localhost:8080/"
        },
        "id": "-yUNhSdQGiI1",
        "outputId": "0e364888-7bd4-4902-b337-f7e796378d92"
      },
      "outputs": [
        {
          "name": "stdout",
          "output_type": "stream",
          "text": [
            "                                                  review sentiment\n",
            "40877  I recently started watching this show, and I h...  positive\n",
            "18057  \"Return of the Jedi\" is often remembered for w...  positive\n",
            "19066  I remember I loved this movie when it came out...  negative\n",
            "20525  I don't know what the last reviewer is talking...  positive\n",
            "5847   From the very beginning I was so excited to se...  positive\n",
            "                                                  review sentiment\n",
            "33553  I really liked this Summerslam due to the look...  positive\n",
            "9427   Not many television shows appeal to quite as m...  positive\n",
            "199    The film quickly gets to a major chase scene w...  negative\n",
            "12447  Jane Austen would definitely approve of this o...  positive\n",
            "39489  Expectations were somewhat high for me when I ...  negative\n"
          ]
        }
      ],
      "source": [
        "#Split the data between a training set and a test set\n",
        "df_train, df_test = train_test_split(df, random_state = 42, shuffle = True, test_size = 0.1)\n",
        "print(df_train.head())\n",
        "print(df_test.head())"
      ]
    },
    {
      "cell_type": "code",
      "execution_count": null,
      "metadata": {
        "id": "yDDigm6nGliP"
      },
      "outputs": [],
      "source": [
        "#Create 2 separate csv file in order to load them later\n",
        "df_train.to_csv(root + '/data/train_imdb.csv', index=True)\n",
        "df_test.to_csv(root + '/data/test_imdb.csv', index=True)"
      ]
    },
    {
      "cell_type": "markdown",
      "metadata": {
        "id": "Rcxi4X5CWuoA"
      },
      "source": [
        "## Pre-processing\n",
        "\n",
        "See following links : \n",
        "https://medium.com/analytics-vidhya/pre-processing-tweets-for-sentiment-analysis-a74deda9993e\n",
        "https://towardsdatascience.com/how-to-preprocess-social-media-data-and-text-messages-b011efacf74\n",
        "\n",
        "Data must be pre-processed in order to be used for training.\n",
        "For the time being, the only kind of pre-processing that has been applied is removing the emojis.\n",
        "Howerver, some parts of the tweets may be noisy for the model and would require extra attention : \n",
        "- usernames and @ (handles) : @LATimesautos, @kirstiealley, ...\n",
        "- hashtags : #lebron, #kindle2\n",
        "- abbreviations : LMAO, pls, DM\n",
        "- people names + brands : Obama, Kindle, Nike, Susan Boyle\n",
        "- html characters : &amp, &lt, &gt\n",
        "- urls and links : http://bit.ly/1e1xQ6, http://t.co/3wEwWZi, http://t.co/3wEwWZi, ...\n",
        "- weird punctuation : --, -, \n",
        "- unexpected lowercases, uppercases\n",
        "- emojis with punctuation : :), :-), =D\n",
        "- ...\n",
        "\n",
        "Analyse data to find out what kind of pre-processing is needed.\n",
        "\n",
        "1. Put everything to lowercase (in the dataset, it does not seem that lowercase and uppercase play a significant enough role in the sentiment of the tweet)\n",
        "\n",
        "2. URLs : remove them, they won't be useful for the model\n",
        "3. HTML characters : remove them, they won't be useful for the model\n",
        "4. Emojis : I don't know if we should remove them or not, they may be useful for the model because they can be used to express emotions. For instance, we could imagine to replace them by their meaning : :) could be \"smile\", :D could be \"laugh\", :/ could be \"sad\", etc. However, it is not clear that the model will be able to understand the meaning of the emojis. For the time being, I have removed them.\n",
        "5. Punctuation : remove it, it won't be useful for the model\n",
        "6. Numbers : remove them, they won't be useful for the model\n",
        "7. Abbreviations : replace them with their full form, they may be useful for the model. We can maybe use a dictionary to replace them (custom) --> Maybe this is overkill compared to the actual gain of doing that. Or we can use a library like TextBlob to replace them (not custom).\n",
        "8. Hashtags : remove them, they won't be useful for the model\n",
        "9. @ : remove them, they won't be useful for the model\n",
        "10. People names : remove them, they won't be useful for the model\n",
        "11. Removing stopwords : remove them, they won't be useful for the model\n",
        "\n",
        "Additionnaly we can use techniques as :\n",
        "- Lemmatization : converting a word to its base form. For instance : \"running\" -> \"run\", \"better\" -> \"good\", \"am\" -> \"be\", etc.\n",
        "- Stemming : removing the suffixes of a word. For instance : \"running\" -> \"run\", \"better\" -> \"better\", \"tarts\" -> \"tart\", etc. Only removes suffixes, not prefixes. Stemming is faster than lemmatization but less accurate.\n",
        "\n",
        "Example where lemmatization and stemming are applied :\n",
        "- Lemmatization : \"Caring\" -> \"Care\"\n",
        "- Stemming : \"Caring\" -> \"Car\"\n",
        "\n",
        "Obviously, \"Care\" is not the base form of \"Caring\" and \"Car\" is not the base form of \"Caring\" either.\n",
        "There are many ways to implement them but the most common one is to use the NLTK package.\n",
        "https://www.machinelearningplus.com/nlp/lemmatization-examples-python/"
      ]
    },
    {
      "cell_type": "markdown",
      "metadata": {
        "id": "XqU0E4AypktY"
      },
      "source": [
        "## Functions"
      ]
    },
    {
      "cell_type": "markdown",
      "metadata": {
        "id": "5zkfaRdJWuoB"
      },
      "source": [
        "#### Lemmization, Stemming and Stopwords"
      ]
    },
    {
      "cell_type": "code",
      "execution_count": null,
      "metadata": {
        "id": "wJ1lRVQ98ioU"
      },
      "outputs": [],
      "source": [
        "def lemmatize(df):\n",
        "  lemmatizer = WordNetLemmatizer()\n",
        "  df.text = df.text.apply(lambda x: [lemmatizer.lemmatize(word) for word in x])\n",
        "\n",
        "  return df\n",
        "\n",
        "def stem(df):\n",
        "  stemmer = nltk.stem.PorterStemmer()\n",
        "  df.text = df.text.apply(lambda x: [stemmer.stem(word) for word in x])\n",
        "\n",
        "  return df\n",
        "\n",
        "def removeStopwords(df):\n",
        "  english_stopwords = stopwords.words('english')\n",
        "  df.text = df.text.apply(lambda x: [item for item in x if item not in english_stopwords])\n",
        "\n",
        "  return df\n",
        "\n",
        "def expandContractions(df):\n",
        "  df.text = df.text.apply(lambda x: [contractions.fix(word) for word in x])\n",
        "\n",
        "  return df"
      ]
    },
    {
      "cell_type": "code",
      "execution_count": null,
      "metadata": {
        "id": "VBhCnWUvrNBI"
      },
      "outputs": [],
      "source": [
        "def preProcess(df, lemmatization = True, stemming = False, remove_stopwords = True):\n",
        "  \n",
        "  # Lowercase the text\n",
        "  df.text = df.text.str.lower()\n",
        "  # Remove urls \n",
        "  df.text = df.text.apply(lambda x: re.sub(r'https?:\\/\\/\\S+', '', x))\n",
        "  df.text = df.text.apply(lambda x: re.sub(r\"www\\.[a-z]?\\.?(com)+|[a-z]+\\.(com)\", '', x))\n",
        "  # Remove html reference characters\n",
        "  df.text = df.text.apply(lambda x: re.sub(r'&[a-z]+;', '', x))\n",
        "  # Remove hashtags (must be done before removing punctuation)\n",
        "  df.text = df.text.apply(lambda x: re.sub(r'#', '', x))\n",
        "  # Remove mentions (must be done before removing punctuation)\n",
        "  df.text = df.text.apply(lambda x: re.sub(r'@\\w+', '', x))\n",
        "  # Remove numbers\n",
        "  df.text = df.text.apply(lambda x: re.sub(r'\\d+', '', x))\n",
        "\n",
        "  # Remove special characters\n",
        "  df.text = df.text.apply(lambda x: re.sub(r'\\[[^]]*\\]', '', x))\n",
        "  df.text = df.text.apply(lambda x: re.sub(r'[^a-zA-z0-9\\s]', '', x))\n",
        "\n",
        "  print(\"Special characters removed\")\n",
        "\n",
        "  # Tokenize\n",
        "  tokenizer = torchtext.data.utils.get_tokenizer(\"basic_english\")\n",
        "  df['text'] = df.apply(lambda row: tokenizer(row['text']), axis=1)\n",
        "\n",
        "  print(\"Text tokenized\")\n",
        "\n",
        "  # Expand contractions\n",
        "  df = expandContractions(df)\n",
        "\n",
        "  if remove_stopwords:\n",
        "    # Remove stopwords\n",
        "    df = removeStopwords(df)\n",
        "\n",
        "  print(\"Stop words removed\")\n",
        "    \n",
        "  if lemmatization:\n",
        "    # Lemmatization\n",
        "    df = lemmatize(df)\n",
        "\n",
        "  if stemming:\n",
        "    # Stemming\n",
        "    df = stem(df)\n",
        "\n",
        "  print(\"Lemmatized and stemmatized\")\n",
        "\n",
        "    \n",
        "  # Remove punctuation tokens in each row of the text column\n",
        "  df.text = df.text.apply(lambda x: [item for item in x if item not in string.punctuation])\n",
        "  # Remove any weird characters tokens\n",
        "  df.text = df.text.apply(lambda x: [item for item in x if item.isalpha()])\n",
        "  # Remove any tokens with length less than 2\n",
        "  df.text = df.text.apply(lambda x: [item for item in x if len(item) > 2])\n",
        "  # Remove any repeated tokens\n",
        "  df.text = df.text.apply(lambda x: list(OrderedDict.fromkeys(x)))\n",
        "\n",
        "  print(\"Punctuation removed\")\n",
        "\n",
        "  # Remove any non-english words\n",
        "  english_words = set(nltk.corpus.words.words())\n",
        "  df.text = df.text.apply(lambda x: [item for item in x if item in english_words])\n",
        "\n",
        "  print(\"Non-english words removed\")\n",
        "\n",
        "  return df"
      ]
    },
    {
      "cell_type": "code",
      "execution_count": null,
      "metadata": {
        "id": "uTHoUz8Cpnun"
      },
      "outputs": [],
      "source": [
        "def loadData(data_path):\n",
        "  # Load CSV file\n",
        "  df = pd.read_csv(data_path, encoding='latin-1')\n",
        "\n",
        "  # Add sentiment and text column header\n",
        "  column_names = ['text', 'sentiment']\n",
        "  df = pd.DataFrame(zip(df.iloc[:, 1], df.iloc[:, 2]), columns=column_names)\n",
        "\n",
        "  # Pre-process\n",
        "  df = preProcess(df)\n",
        "\n",
        "  # Vocabulary size \n",
        "  # Build the vocabulary\n",
        "  voc = set()\n",
        "  for text in df.text:\n",
        "    for word in text:\n",
        "      voc.add(word)\n",
        "\n",
        "  return df, len(voc), voc"
      ]
    },
    {
      "cell_type": "code",
      "execution_count": null,
      "metadata": {
        "colab": {
          "base_uri": "https://localhost:8080/"
        },
        "id": "EZmZfLA4TZ7f",
        "outputId": "e9bf9b2f-5c0b-4b69-dea6-9ca4b4070c59"
      },
      "outputs": [
        {
          "output_type": "stream",
          "name": "stdout",
          "text": [
            "Loading train data...\n",
            "Special characters removed\n",
            "Text tokenized\n",
            "Stop words removed\n",
            "Lemmatized and stemmatized\n",
            "Punctuation removed\n",
            "Non-english words removed\n",
            "\n",
            "Loading test data...\n",
            "Special characters removed\n",
            "Text tokenized\n",
            "Stop words removed\n",
            "Lemmatized and stemmatized\n",
            "Punctuation removed\n",
            "Non-english words removed\n"
          ]
        }
      ],
      "source": [
        "# Read the data at the path\n",
        "data_path = root + '/data/'\n",
        "print(\"Loading train data...\")\n",
        "df_train, vocab_size_train, voc_train = loadData(data_path + 'train_imdb.csv')\n",
        "print(\"\\nLoading test data...\")\n",
        "df_test, vocab_size_test, voc_test = loadData(data_path + 'test_imdb.csv')"
      ]
    },
    {
      "cell_type": "code",
      "execution_count": null,
      "metadata": {
        "colab": {
          "base_uri": "https://localhost:8080/"
        },
        "id": "Y5MMAWJABX1Z",
        "outputId": "6e193fe7-dcee-4b55-8594-830e10f9582d"
      },
      "outputs": [
        {
          "output_type": "stream",
          "name": "stdout",
          "text": [
            "Train size:  45000\n",
            "negative    22519\n",
            "positive    22481\n",
            "Name: sentiment, dtype: int64\n",
            "                                                text sentiment\n",
            "0  [recently, watching, show, say, really, made, ...  positive\n",
            "1  [return, often, wrong, rather, right, shame, l...  positive\n",
            "2  [remember, movie, came, year, old, commodore, ...  negative\n",
            "3  [know, last, reviewer, talking, show, pure, en...  positive\n",
            "4  [beginning, excited, see, movie, poster, possi...  positive\n"
          ]
        }
      ],
      "source": [
        "print(\"Train size: \", df_train.text.size)\n",
        "print(df_train.sentiment.value_counts())\n",
        "print(df_train.head())"
      ]
    },
    {
      "cell_type": "code",
      "execution_count": null,
      "metadata": {
        "colab": {
          "base_uri": "https://localhost:8080/"
        },
        "id": "BGWDZr4uBpP6",
        "outputId": "2368a4db-b43a-41e0-812f-29e493c2a835"
      },
      "outputs": [
        {
          "output_type": "stream",
          "name": "stdout",
          "text": [
            "Test size:  5000\n",
            "positive    2519\n",
            "negative    2481\n",
            "Name: sentiment, dtype: int64\n",
            "                                                text sentiment\n",
            "0  [really, due, look, arena, curtain, overall, i...  positive\n",
            "1  [many, television, show, appeal, quite, differ...  positive\n",
            "2  [film, quickly, get, major, chase, scene, ever...  negative\n",
            "3  [jane, would, definitely, approve, awesome, jo...  positive\n",
            "4  [expectation, somewhat, high, went, see, movie...  negative\n"
          ]
        }
      ],
      "source": [
        "print(\"Test size: \", df_test.text.size)\n",
        "print(df_test.sentiment.value_counts())\n",
        "print(df_test.head())"
      ]
    },
    {
      "cell_type": "code",
      "execution_count": null,
      "metadata": {
        "colab": {
          "base_uri": "https://localhost:8080/"
        },
        "id": "LZgkwmLqYJrE",
        "outputId": "1e51a6bb-59c2-4ba6-df7a-435279dd5f32"
      },
      "outputs": [
        {
          "output_type": "stream",
          "name": "stdout",
          "text": [
            "Train data shape:  (45000, 2)\n",
            "Test data shape:  (5000, 2)\n",
            "Vocabulary size:  30615\n",
            "Vocabulary size:  17650\n",
            "Vocabulary train:  ['sickeningly', 'wary', 'sagittarius', 'outwit', 'progovernment', 'indignation', 'employed', 'unyieldingly', 'insufficiency', 'asbestos']\n",
            "Vocabulary test:  ['restrictive', 'sickeningly', 'variously', 'wary', 'veer', 'snuggle', 'diversity', 'nodule', 'escapist', 'outwit']\n",
            "Train data sample: \n",
            "                                                 text sentiment\n",
            "0  [recently, watching, show, say, really, made, ...  positive\n",
            "1  [return, often, wrong, rather, right, shame, l...  positive\n",
            "2  [remember, movie, came, year, old, commodore, ...  negative\n",
            "3  [know, last, reviewer, talking, show, pure, en...  positive\n",
            "4  [beginning, excited, see, movie, poster, possi...  positive\n",
            "Test data sample: \n",
            "                                                 text sentiment\n",
            "0  [really, due, look, arena, curtain, overall, i...  positive\n",
            "1  [many, television, show, appeal, quite, differ...  positive\n",
            "2  [film, quickly, get, major, chase, scene, ever...  negative\n",
            "3  [jane, would, definitely, approve, awesome, jo...  positive\n",
            "4  [expectation, somewhat, high, went, see, movie...  negative\n"
          ]
        }
      ],
      "source": [
        "print('Train data shape: ', df_train.shape)\n",
        "print('Test data shape: ', df_test.shape)\n",
        "print('Vocabulary size: ', vocab_size_train)\n",
        "print('Vocabulary size: ', vocab_size_test)\n",
        "print('Vocabulary train: ', list(voc_train)[:10])\n",
        "print('Vocabulary test: ', list(voc_test)[:10])\n",
        "print('Train data sample: \\n', df_train.head())\n",
        "print('Test data sample: \\n', df_test.head())"
      ]
    },
    {
      "cell_type": "markdown",
      "metadata": {
        "id": "0FsWOb4-sYF4"
      },
      "source": [
        "## Build vocabulary"
      ]
    },
    {
      "cell_type": "code",
      "execution_count": null,
      "metadata": {
        "id": "ATKXjICmsYF4"
      },
      "outputs": [],
      "source": [
        "# Build the vocabulary for the training data\n",
        "vocabulary = set()\n",
        "\n",
        "# Add special tokens to the vocabulary\n",
        "pad = \"<PAD>\" # Used to pad short sentences to the MAX_TOKENS length\n",
        "sos = \"<SOS>\" # Start-of-sentence\n",
        "eos = \"<EOS>\" # End-of-sentence\n",
        "ukn = \"<UKN>\" # Unknown word\n",
        "\n",
        "vocabulary.add(pad)\n",
        "vocabulary.add(sos)\n",
        "vocabulary.add(eos)\n",
        "vocabulary.add(ukn)\n",
        "\n",
        "\n",
        "MAX_TOKENS = 0 # Maximum number of tokens in a sentence\n",
        "\n",
        "# Iterate over the training data\n",
        "for row in range(len(df_train)):\n",
        "      # Each row[\"text\"] is a list of tokens\n",
        "      # Each token is a word that has to be added to the vocabulary\n",
        "      MAX_TOKENS = max(MAX_TOKENS, len(df_train.loc[row, \"text\"]))\n",
        "      # Save the row that has the maximum number of tokens\n",
        "      if MAX_TOKENS == len(df_train.loc[row, \"text\"]):\n",
        "        max_row = df_train.loc[row, \"text\"]\n",
        "        row_index = row\n",
        "      tokens = df_train.loc[row, \"text\"]\n",
        "      for word in tokens:\n",
        "        vocabulary.add(word)\n",
        "            \n",
        "vocab_size = len(vocabulary)"
      ]
    },
    {
      "cell_type": "code",
      "execution_count": null,
      "metadata": {
        "colab": {
          "base_uri": "https://localhost:8080/"
        },
        "id": "VvvErr8d2Qg7",
        "outputId": "7baa70d4-3e37-4e06-8ebd-e57c99d8edf8"
      },
      "outputs": [
        {
          "output_type": "stream",
          "name": "stdout",
          "text": [
            "692\n",
            "30619\n",
            "['spoiler', 'although', 'many', 'commentator', 'film', 'term', 'fit', 'poorly', 'quote', 'encyclopedia', 'fantastic', 'incongruous', 'imagery', 'one', 'explain', 'unimaginative', 'way', 'plucky', 'boy', 'large', 'seeking', 'fortune', 'driver', 'seat', 'red', 'mustang', 'could', 'curious', 'might', 'read', 'said', 'lad', 'behind', 'wheel', 'sport', 'car', 'surely', 'protest', 'fantasy', 'incongruity', 'offer', 'mostly', 'appear', 'within', 'first', 'fifteen', 'minute', 'thereafter', 'get', 'iteration', 'squalid', 'progression', 'far', 'soon', 'prof', 'predictable', 'hand', 'literally', 'believable', 'unfair', 'tax', 'particular', 'flaw', 'plausible', 'suspension', 'disbelief', 'fallen', 'precipitously', 'typical', 'viewer', 'scale', 'value', 'ever', 'since', 'raider', 'lost', 'ark', 'hallucinatory', 'know', 'hallucination', 'part', 'knowing', 'rate', 'people', 'enjoy', 'drug', 'result', 'loss', 'anyone', 'would', 'take', 'course', 'occasional', 'bad', 'trip', 'movie', 'must', 'pun', 'juxtaposition', 'word', 'startling', 'time', 'startle', 'god', 'like', 'something', 'damn', 'two', 'interjection', 'par', 'script', 'sadly', 'sense', 'pass', 'dialogue', 'reveal', 'direct', 'proportion', 'naivete', 'regarding', 'speech', 'pattern', 'rising', 'world', 'completely', 'defined', 'minutely', 'make', 'rational', 'indeed', 'cartoon', 'elementary', 'school', 'newspaper', 'numerous', 'guest', 'star', 'cast', 'cameo', 'role', 'even', 'intelligent', 'little', 'hero', 'blink', 'eyelash', 'need', 'several', 'second', 'concoct', 'lie', 'character', 'despite', 'nearly', 'every', 'scene', 'significant', 'development', 'scant', 'reward', 'enough', 'wish', 'better', 'understand', 'coming', 'vaguely', 'story', 'protagonist', 'struggling', 'fully', 'recognizable', 'realistically', 'painted', 'image', 'removed', 'normal', 'context', 'ambiguous', 'paradoxical', 'shocking', 'framework', 'see', 'succession', 'stereotypical', 'dilapidated', 'billboard', 'filling', 'station', 'eatery', 'cheap', 'hotel', 'habitue', 'along', 'country', 'highway', 'exactly', 'largely', 'responsible', 'traditional', 'emphasis', 'content', 'sum', 'picture', 'millionaire', 'dressed', 'clown', 'pirate', 'posh', 'costume', 'party', 'sitting', 'serene', 'mute', 'cautious', 'chauffeur', 'inch', 'fragile', 'skiff', 'sea', 'desperate', 'humanity', 'implore', 'window', 'smear', 'glass', 'blood', 'imagine', 'stadium', 'full', 'abandoned', 'antique', 'limousine', 'white', 'piano', 'ghost', 'detritus', 'wander', 'exhausted', 'ailing', 'woman', 'cling', 'becoming', 'fall', 'asleep', 'side', 'grass', 'feast', 'transfiguration', 'day', 'brilliant', 'flash', 'horizon', 'sun', 'finding', 'consort', 'become', 'corpse', 'belief', 'soul', 'going', 'heaven', 'later', 'innocently', 'learned', 'new', 'today', 'taking', 'photograph', 'sample', 'cinematic', 'surrealism', 'whose', 'irony', 'ripple', 'invade', 'title', 'empire', 'seek', 'please', 'miss', 'ala', 'however', 'hard', 'tread', 'accelerator', 'race', 'chariot', 'beyond', 'desert', 'exquisitely', 'strange', 'rich', 'subtle', 'gorgeous', 'await', 'poor', 'none', 'necessarily', 'though', 'somewhat', 'disappointed', 'cannot', 'dismiss', 'view', 'respectability', 'another', 'genre', 'exemplify', 'sure', 'also', 'expressionism', 'existentialism', 'pessimism', 'amidst', 'omnipotent', 'power', 'structure', 'try', 'size', 'theater', 'turning', 'article', 'style', 'amazed', 'extent', 'absurd', 'valid', 'artistic', 'objection', 'vanish', 'puff', 'smoke', 'entire', 'text', 'support', 'attempt', 'show', 'human', 'situation', 'essentially', 'devoid', 'purpose', 'humankind', 'left', 'feeling', 'hopeless', 'bewildered', 'anxious', 'instantaneously', 'getting', 'away', 'depressing', 'home', 'life', 'among', 'parent', 'find', 'purposeless', 'drive', 'past', 'glittering', 'reading', 'win', 'lottery', 'promise', 'already', 'revealed', 'ambition', 'illusory', 'game', 'never', 'corporation', 'intention', 'trick', 'confuse', 'leave', 'crestfallen', 'aspirant', 'ultimately', 'playwright', 'therefore', 'logical', 'dramatic', 'action', 'conventionally', 'understood', 'frantically', 'perform', 'busyness', 'serf', 'underscore', 'fact', 'nothing', 'change', 'existence', 'timeless', 'circular', 'quality', 'language', 'play', 'repetition', 'obvious', 'sound', 'nonsense', 'underneath', 'sometimes', 'comic', 'surface', 'underlying', 'message', 'metaphysical', 'distress', 'obsession', 'silly', 'inane', 'plot', 'device', 'wherein', 'divine', 'bleak', 'future', 'return', 'moment', 'different', 'still', 'turn', 'much', 'admirer', 'anyway', 'really', 'instead', 'addition', 'work', 'quite', 'stop', 'disillusionment', 'love', 'attendant', 'met', 'person', 'decently', 'service', 'advertising', 'tutelage', 'waiting', 'note', 'famous', 'preoccupation', 'furthermore', 'indirect', 'previous', 'encounter', 'badly', 'maimed', 'arm', 'straight', 'horizontally', 'last', 'protege', 'say', 'want', 'hear', 'music', 'finger', 'end', 'beckoning', 'closer', 'finally', 'author', 'happen', 'currently', 'theologian', 'acknowledged', 'architect', 'undergirder', 'liberation', 'theology', 'catholic', 'movement', 'perhaps', 'police', 'brutality', 'corporate', 'greed', 'cliche', 'cinema', 'literature', 'sentiment', 'impressive', 'warrant', 'scripture', 'tradition', 'expose', 'earthly', 'activity', 'angel', 'principality', 'wrote', 'popular', 'three', 'institution', 'ideology', 'commend', 'worship', 'making', 'false', 'deeply', 'involved', 'becomes', 'slave', 'promising', 'control', 'immortality', 'inexorably', 'deliver', 'helplessness', 'chaos', 'death', 'yet', 'beguile', 'dominion', 'earth', 'book', 'genesis', 'bent', 'inevitably', 'hegemony', 'mistranslation', 'accurate', 'rendering', 'stewardship', 'quibble', 'beside', 'fundamental', 'problem', 'neglect', 'notice', 'reason', 'assume', 'descendent', 'exercise', 'contrary', 'demonic', 'force', 'stolen', 'add', 'observation', 'lewis', 'man', 'conquest', 'nature', 'mere', 'illusion', 'ruse', 'cover', 'talking', 'men', 'instrument', 'secondly', 'satan', 'kind', 'may', 'dangle', 'pleasure', 'niggardly', 'withdraw', 'firmly', 'thrall', 'leaving', 'prey', 'front', 'fire', 'miserably', 'sorry', 'seething', 'insight', 'seem', 'mirrored', 'remarkably', 'experience', 'nice', 'least', 'pretty', 'prior', 'falling', 'victim', 'sign', 'glisten', 'glamorously', 'longer', 'journey', 'towards', 'headquarters', 'shabby', 'lonely', 'meeting', 'else', 'giving', 'card', 'either', 'ruin', 'staffed', 'zombie', 'meet', 'ugly', 'deceitful', 'hostile', 'answer', 'common', 'dictator', 'mean', 'abide', 'totally', 'oblivious', 'partially', 'blinded', 'prematurely', 'aged', 'infantile', 'literal', 'linguistically', 'eventually', 'precious', 'taken', 'crash', 'continue', 'dead', 'wreck', 'long', 'done', 'everything', 'thought', 'present', 'tower', 'receive', 'prize', 'built', 'monument', 'vanity', 'agent', 'evade', 'disappoint', 'insult', 'throw', 'top', 'floor', 'landing', 'body', 'water', 'classic', 'symbolism', 'inevitable', 'put', 'faith', 'fate', 'warning', 'look', 'mutable', 'upon', 'seeing', 'generous', 'selfless', 'act', 'seen', 'almost', 'hour', 'half', 'handicapped', 'hardly', 'able', 'insert', 'hose', 'gas', 'tank', 'help', 'apply', 'job', 'explaining', 'motorist', 'hell', 'place', 'interpretation', 'conjectural', 'surprise', 'outrage', 'cult', 'point', 'cup', 'tea', 'convinced', 'worst', 'made']\n"
          ]
        }
      ],
      "source": [
        "print(MAX_TOKENS)\n",
        "print(vocab_size)\n",
        "print(max_row)"
      ]
    },
    {
      "cell_type": "code",
      "execution_count": null,
      "metadata": {
        "id": "QCi-HitJ1GeC"
      },
      "outputs": [],
      "source": [
        "# For each word in the vocabulary, assign a word id\n",
        "word2index = {}\n",
        "for index, word in enumerate(vocabulary):\n",
        "    word2index[word] = index"
      ]
    },
    {
      "cell_type": "code",
      "execution_count": null,
      "metadata": {
        "id": "N0yOhek36Lew"
      },
      "outputs": [],
      "source": [
        "# For each word id, assign a word\n",
        "index2word = {id: token for token, id in enumerate(word2index)}"
      ]
    },
    {
      "cell_type": "code",
      "execution_count": null,
      "metadata": {
        "colab": {
          "base_uri": "https://localhost:8080/"
        },
        "id": "W0zIy4zW9IXy",
        "outputId": "ba6052fd-c7d7-4fa3-c295-1a9a12a8084f"
      },
      "outputs": [
        {
          "output_type": "stream",
          "name": "stdout",
          "text": [
            "17738\n"
          ]
        }
      ],
      "source": [
        "print(word2index[\"<SOS>\"])"
      ]
    },
    {
      "cell_type": "code",
      "execution_count": null,
      "metadata": {
        "colab": {
          "base_uri": "https://localhost:8080/"
        },
        "id": "RMAGDKBDlRJW",
        "outputId": "de14cf48-00c2-4572-cab6-574ab29ed0a8"
      },
      "outputs": [
        {
          "output_type": "stream",
          "name": "stdout",
          "text": [
            "Mean length of sentences :  77.49162222222222\n"
          ]
        }
      ],
      "source": [
        "# To have an idea, compute statistics on the number of tokens in each sentence\n",
        "mean = 0\n",
        "for row in range(len(df_train)):\n",
        "    mean += len(df_train.loc[row, \"text\"])\n",
        "mean = mean / len(df_train)\n",
        "print(\"Mean length of sentences : \", mean)"
      ]
    },
    {
      "cell_type": "markdown",
      "metadata": {
        "id": "PdtW1GzNkTU_"
      },
      "source": [
        "## Build Embedding\n",
        "https://pytorch.org/tutorials/beginner/nlp/word_embeddings_tutorial.html\n",
        "Embedding converts words to integers, and there is a vector corresponding to eachinteger.\n",
        "If there x words in a dictionary, each word will be assigned a value between 1 and x.\n",
        "\n",
        "Embedding types : \n",
        "- GloVe : Global Vectors for Word Representation (pre-trained)\n",
        "- Word2Vec : \n",
        "    - Pre-trained : https://github.com/AI-Trends/NLP-Tutorial/blob/master/Word2vec_pretrained_embeddings.ipynb\n",
        "This first version of word2vec embedding will load the vectors of an already trained model.\n",
        "    - Trained on the fly : https://www.kaggle.com/code/paoloripamonti/twitter-sentiment-analysis\n",
        "Unlike the previous version, we will build a vocabulary and train it with the train dataset from our data.\n",
        "- FastText : Facebook AI Research\n"
      ]
    },
    {
      "cell_type": "markdown",
      "metadata": {
        "id": "q4NFBDMDuOjC"
      },
      "source": [
        "### Embedding matrix\n",
        "When we will have a dataset, its vocabulary, and a dictionary of embedder words and their corresponding vectors.\n",
        "There will still be no correlation between our vocabulary, and the embedder vocabulary.\n",
        "To connect them, we need to create an embedding matrix."
      ]
    },
    {
      "cell_type": "code",
      "execution_count": null,
      "metadata": {
        "id": "U3C6w3I6uOT8"
      },
      "outputs": [],
      "source": [
        "def build_embedding_matrix(vocab_size, embedding_dim, vocabulary, embedding, glove, model):\n",
        "    print(\"Building embedding matrix...\")\n",
        "\n",
        "    embedding_matrix = np.zeros((vocab_size, embedding_dim))\n",
        "    # This matrix needs to be populated : \n",
        "    #   For each word in the training vocabulary, the corresponding vector is \n",
        "    #   retrieved from the GloVe dictionary\n",
        "\n",
        "    ukn_cnt = 0     # unknown words counter\n",
        "    ukn_set = set() # set of unknown words\n",
        "    for index, word in enumerate(vocabulary):\n",
        "        if word in embedding:\n",
        "          if glove:\n",
        "            embedding_matrix[index] = embedding[word]\n",
        "          else:\n",
        "            embedding_vector = model[word]\n",
        "            embedding_vector = np.array(embedding_vector)\n",
        "            if embedding_vector is not None:\n",
        "              embedding_matrix[index] = embedding_vector\n",
        "        else:\n",
        "            ukn_cnt += 1\n",
        "            ukn_set.add(word)\n",
        "            embedding_matrix[index] = np.random.normal(scale=0.6, size=(embedding_dim, ))\n",
        "    \n",
        "    print(\"Unknown words: \", ukn_cnt)\n",
        "    print(\"Percentage of unknown words: \", ukn_cnt / vocab_size)\n",
        "    \n",
        "    return embedding_matrix"
      ]
    },
    {
      "cell_type": "code",
      "execution_count": null,
      "metadata": {
        "colab": {
          "base_uri": "https://localhost:8080/"
        },
        "id": "fi3Ub9VWYJrG",
        "outputId": "a0f39b9e-9156-49e4-d641-83e3ced5a7b9"
      },
      "outputs": [
        {
          "output_type": "stream",
          "name": "stdout",
          "text": [
            "Loading pre-trained FastText embeddings...\n",
            "Error: embedding dimension is not  300\n",
            "Building embedding matrix...\n",
            "Unknown words:  1552\n",
            "Percentage of unknown words:  0.05068748162905386\n"
          ]
        }
      ],
      "source": [
        "# Choose the embedding parameters\n",
        "EMBEDDING_TYPE = \"fasttext\" # \"glove\" (pre-trained), \"word2vec\" or \"fasttext\"\n",
        "PRE_TRAINED = True # True if using pre-trained embeddings, False otherwise\n",
        "RETRAIN_EMBEDDINGS = True # True if training the embeddings, False otherwise\n",
        "\n",
        "#-----------------------------------------\n",
        "#                  GloVe \n",
        "#-----------------------------------------\n",
        "if EMBEDDING_TYPE == \"glove\":\n",
        "    if PRE_TRAINED:\n",
        "        print(\"Loading pre-trained GloVe embeddings...\")\n",
        "        embedding_path = root + '/Glove/glove.42B.300d.txt'\n",
        "        embedding_dim = 300 # The dimension of the embedding\n",
        "        \n",
        "        embedding_dict = {}\n",
        "        with open(embedding_path, 'r') as f:\n",
        "            for line in f:\n",
        "                tokens = line.split()\n",
        "                word = tokens[0]\n",
        "                vector = np.array(tokens[1:], dtype=np.float32)\n",
        "                if vector.shape[0] == embedding_dim:\n",
        "                    embedding_dict[word] = vector\n",
        "                else:\n",
        "                    print(\"Error: embedding dimension is not \", embedding_dim)\n",
        "        \n",
        "        # Create the embedding matrix   \n",
        "        embedding = build_embedding_matrix(vocab_size, embedding_dim, vocabulary, embedding_dict, True, embedding_dict)\n",
        "                \n",
        "#-----------------------------------------\n",
        "#                  Word2Vec \n",
        "#-----------------------------------------             \n",
        "elif EMBEDDING_TYPE == \"word2vec\":\n",
        "    if PRE_TRAINED:\n",
        "        print(\"Loading pre-trained Word2Vec embeddings...\")\n",
        "        \n",
        "        embedding_path = root + '/Word2Vec/GoogleNews-vectors-negative300.bin'\n",
        "        embedding_dim = 300 # The dimension of the embedding\n",
        "        \n",
        "        # Load the vocabulary and the corresponding vectors\n",
        "        model_w2v = KeyedVectors.load_word2vec_format(root + '/Word2Vec/GoogleNews-vectors-negative300.bin', binary=True)\n",
        "        embedding_dict = model_w2v.vocab\n",
        "        \n",
        "        # Create the embedding matrix\n",
        "        embedding = build_embedding_matrix(vocab_size, embedding_dim, vocabulary, embedding_dict, False, model_w2v)\n",
        "    \n",
        "    else:\n",
        "        if RETRAIN_EMBEDDINGS:\n",
        "            print(\"Training Word2Vec embeddings...\")\n",
        "            #-----------------------------------------\n",
        "            #                 Parameters\n",
        "            #-----------------------------------------\n",
        "            \n",
        "            embedding_dim = 300\n",
        "            w2v_window = 5\n",
        "            w2v_min_count = 10\n",
        "            w2v_workers = 8\n",
        "            train_embeddings_epochs = 30\n",
        "            \n",
        "            # Train the word2vec model\n",
        "            model_w2v = gensim.models.word2vec.Word2Vec(size=embedding_dim, window=w2v_window, min_count=w2v_min_count, workers=w2v_workers)\n",
        "            model_w2v.build_vocab(df_train.text)\n",
        "            words = model_w2v.wv.vocab.keys()\n",
        "            model_w2v.train(df_train.text, total_examples=len(df_train), epochs=train_embeddings_epochs)\n",
        "            model_w2v.save(root + \"/Word2Vec/w2v.model\")\n",
        "            embedding_dict = model_w2v.wv\n",
        "            \n",
        "            # Create the embedding matrix\n",
        "            embedding = build_embedding_matrix(vocab_size, embedding_dim, vocabulary, embedding_dict, False, model_w2v)\n",
        "            \n",
        "        else:\n",
        "            print(\"Loading Word2Vec embeddings...\")\n",
        "            # Can avoid the training by loading the saved model\n",
        "            model_w2v = gensim.models.word2vec.Word2Vec.load(root + '/Word2Vec/w2v.model')\n",
        "            embedding_dim = 300\n",
        "            embedding_dict = model_w2v.wv\n",
        "        \n",
        "            # Create the embedding matrix\n",
        "            embedding = build_embedding_matrix(vocab_size, embedding_dim, vocabulary, embedding_dict, False, model_w2v)\n",
        "            \n",
        "elif EMBEDDING_TYPE == \"fasttext\":\n",
        "    if PRE_TRAINED:\n",
        "        print(\"Loading pre-trained FastText embeddings...\")\n",
        "        \n",
        "        embedding_path = root + '/FastText/wiki-news-300d-1M.vec'\n",
        "        embedding_dim = 300\n",
        "        \n",
        "        # Load the vocabulary and the corresponding vectors\n",
        "        embedding_dict = {}\n",
        "        with open(embedding_path, 'r') as f:\n",
        "            for line in f:\n",
        "                tokens = line.split()\n",
        "                word = tokens[0]\n",
        "                vector = np.array(tokens[1:], dtype=np.float32)\n",
        "                if vector.shape[0] == embedding_dim:\n",
        "                    embedding_dict[word] = vector\n",
        "                else:\n",
        "                    print(\"Error: embedding dimension is not \", embedding_dim)\n",
        "                    \n",
        "        # Create the embedding matrix\n",
        "        embedding = build_embedding_matrix(vocab_size, embedding_dim, vocabulary, embedding_dict, True, embedding_dict)"
      ]
    },
    {
      "cell_type": "code",
      "execution_count": null,
      "metadata": {
        "colab": {
          "base_uri": "https://localhost:8080/"
        },
        "id": "ZGEzA_3LYJrG",
        "outputId": "753dae10-7e40-4638-cafa-b2d3def6604f"
      },
      "outputs": [
        {
          "output_type": "stream",
          "name": "stdout",
          "text": [
            "Dictionary Size :  999994\n"
          ]
        }
      ],
      "source": [
        "# Check dictionary size : \n",
        "print(\"Dictionary Size : \", len(embedding_dict))"
      ]
    },
    {
      "cell_type": "markdown",
      "metadata": {
        "id": "_4Rp2m2F6-lX"
      },
      "source": [
        "## Padding sequences\n",
        "Some of the tweets are longer than others. \n",
        "In order to train the model on a fixed-length input, we must define an input length that will be the same for all tokens (MAX_TOKENS), and pad all tweets that are smaller than MAX_TOKENS with \\<PAD\\> tokens"
      ]
    },
    {
      "cell_type": "code",
      "execution_count": null,
      "metadata": {
        "id": "oFS-iTNa7phK"
      },
      "outputs": [],
      "source": [
        "# Decide on the maximum length of the sequences (based on the mean computed earlier)\n",
        "seq_length = 100 # mean was around 77"
      ]
    },
    {
      "cell_type": "code",
      "execution_count": null,
      "metadata": {
        "id": "uEJFmLoRq6Xb"
      },
      "outputs": [],
      "source": [
        "#Returns the index if the word is in the vocabulary, otherwise, it returns the index of unkwon words\n",
        "def get_word(w):\n",
        "  if w in word2index:\n",
        "    return word2index[w]\n",
        "  else:\n",
        "    return word2index[\"<UKN>\"]"
      ]
    },
    {
      "cell_type": "code",
      "execution_count": null,
      "metadata": {
        "id": "hmMbMzL57UNv"
      },
      "outputs": [],
      "source": [
        "def padding_and_encode(tweet, max_length):\n",
        "  sos_id = [word2index[\"<SOS>\"]]\n",
        "  eos_id = [word2index[\"<EOS>\"]]\n",
        "  pad_id = [word2index[\"<PAD>\"]]\n",
        "  \n",
        "  # Truncate the tweet if it is too long (more than seq_length)\n",
        "  if len(tweet) > max_length:\n",
        "    tweet = tweet[:max_length]\n",
        "    n_pads = 0\n",
        "  else:\n",
        "    n_pads = max_length - len(tweet)\n",
        "    \n",
        "  encoded = [get_word(w) for w in tweet] # encode without embedding here!!!\n",
        "  return sos_id + encoded + eos_id + pad_id*n_pads"
      ]
    },
    {
      "cell_type": "code",
      "execution_count": null,
      "metadata": {
        "id": "GxmG78TY9jqx"
      },
      "outputs": [],
      "source": [
        "# Transfrom dataframes into lists\n",
        "X_train = df_train[\"text\"].tolist()\n",
        "X_test = df_test[\"text\"].tolist()\n",
        "y_train = df_train[\"sentiment\"].tolist()\n",
        "y_test = df_test[\"sentiment\"].tolist()"
      ]
    },
    {
      "cell_type": "code",
      "execution_count": null,
      "metadata": {
        "colab": {
          "base_uri": "https://localhost:8080/"
        },
        "id": "QVh-wWVhf_Ef",
        "outputId": "2ba06fb7-49b3-41ac-819f-8853a99894f9"
      },
      "outputs": [
        {
          "output_type": "stream",
          "name": "stdout",
          "text": [
            "['recently', 'watching', 'show', 'say', 'really', 'made', 'laugh', 'appreciate', 'unrealistic', 'aspect', 'along', 'everything', 'else', 'people', 'said', 'realistic', 'reaction', 'dead', 'among', 'thing', 'going', 'accept', 'bring', 'back', 'life', 'completely', 'crazy', 'bit', 'help', 'smiling', 'every', 'episode', 'watched', 'think', 'great', 'take', 'strange', 'subject', 'make', 'watch', 'absolutely', 'love', 'narration', 'add', 'extra', 'wonder', 'whole', 'cannot', 'always', 'compare', 'old', 'writer', 'new', 'one', 'entity', 'definitely', 'give', 'chance', 'enjoy', 'ridiculous', 'part'] positive\n",
            "['return', 'often', 'wrong', 'rather', 'right', 'shame', 'last', 'chronological', 'installment', 'star', 'war', 'saga', 'shining', 'example', 'epic', 'storytelling', 'wrap', 'story', 'line', 'previous', 'movie', 'one', 'grand', 'finale', 'yes', 'cute', 'cuddly', 'bear', 'broaden', 'demographic', 'middle', 'slow', 'bit', 'final', 'hour', 'best', 'piece', 'entire', 'luke', 'finally', 'come', 'face', 'recognizable', 'villain', 'many', 'thing', 'people', 'tend', 'overlook', 'incredible', 'conclusion', 'went', 'slightly', 'implausible', 'empire', 'strike', 'back', 'convincing', 'exciting', 'opening', 'palace', 'masterful', 'performance', 'emperor', 'coming', 'resolution', 'solo', 'romance', 'extremely', 'powerful', 'moment', 'slight', 'annoyance', 'generation', 'time', 'every', 'single', 'scene', 'still', 'magical', 'moving', 'cinema', 'also', 'serf', 'great', 'chapter', 'good', 'fantastic'] positive\n",
            "['remember', 'movie', 'came', 'year', 'old', 'commodore', 'play', 'therefore', 'really', 'got', 'buy', 'cheap', 'put', 'man', 'bad', 'sylvester', 'say', 'like', 'word', 'entire', 'except', 'awful', 'sentimental', 'speech', 'end', 'expression', 'face', 'way', 'stupid', 'love', 'thing', 'middle', 'amazingly', 'predictable', 'ended', 'fast', 'forwarding', 'went', 'exchange', 'something', 'else'] negative\n",
            "['know', 'last', 'reviewer', 'talking', 'show', 'pure', 'entertainment', 'basically', 'dude', 'put', 'competition', 'club', 'pick', 'girl', 'different', 'scenario', 'mix', 'every', 'time', 'panel', 'judge', 'afraid', 'call', 'people', 'admit', 'recognize', 'game', 'break', 'guy', 'wrong', 'right', 'contestant', 'weak', 'strong', 'always', 'entertaining', 'relate', 'seen', 'real', 'doubt'] positive\n",
            "['beginning', 'excited', 'see', 'movie', 'poster', 'possibly', 'ever', 'seen', 'immediately', 'bought', 'one', 'dorm', 'every', 'element', 'came', 'together', 'beautifully', 'often', 'many', 'penis', 'gay', 'racial', 'joke', 'critic', 'rest', 'cast', 'deliver', 'sensationally', 'remains', 'sweet', 'throughout', 'entire', 'end', 'succeed', 'relationship', 'get', 'laid', 'supporting', 'brutal', 'problem', 'lady', 'thing', 'abundance', 'memorable', 'scene', 'given', 'make', 'easy', 'remember', 'fondly', 'brought', 'word', 'chest', 'waxing', 'watching', 'theater', 'older', 'people', 'watch', 'saw', 'group', 'four', 'mids', 'woman', 'come', 'despite', 'audience', 'still', 'filled', 'think', 'type', 'like', 'fan', 'office', 'lot', 'remind', 'family', 'guy', 'shallow', 'enough', 'adolescent', 'boy', 'clever', 'middle', 'aged', 'recommend', 'going', 'profanity', 'easily', 'offended', 'however', 'good', 'humor', 'funny'] positive\n",
            "['film', 'moving', 'without', 'sentimental', 'meaningful', 'pretentious', 'tell', 'simple', 'story', 'family', 'danger', 'falling', 'apart', 'encroachment', 'technology', 'advancing', 'society', 'make', 'business', 'increasingly', 'acting', 'wonderful', 'though', 'none', 'west', 'likely', 'actor', 'long', 'ago', 'play', 'character', 'honesty', 'reverence', 'flawed', 'major', 'weakness', 'utter', 'humanity', 'kindness', 'impossible', 'become', 'engaged', 'need', 'like', 'western'] positive\n",
            "['movie', 'think', 'like', 'amazing', 'intelligent', 'people', 'talented', 'even', 'fall', 'really', 'done', 'one', 'recent', 'year', 'come', 'back', 'wilderness', 'made', 'mark', 'truly', 'great', 'film', 'budget', 'cute', 'actress', 'intense', 'thought', 'would', 'excel', 'sentimental', 'emotional', 'role', 'ironically', 'care', 'sheer', 'incompetence', 'carelessness', 'awful', 'acting', 'banal', 'background', 'music', 'insensitive', 'direction', 'make', 'real', 'blunder', 'rule', 'german', 'police', 'issue', 'public', 'instruction', 'loud', 'speaker', 'communicate', 'among', 'unfortunately', 'become', 'standard', 'main', 'line', 'excellent', 'director', 'many', 'bad', 'worse', 'thing', 'majority', 'song', 'saving', 'please', 'repeat', 'find', 'good', 'low', 'villain', 'shaved', 'head', 'instead', 'wig', 'know'] negative\n",
            "['really', 'say', 'felt', 'movie', 'right', 'essence', 'mind', 'game', 'dreamy', 'reality', 'enter', 'aspect', 'future', 'faced', 'cruise', 'much', 'acting', 'prowess', 'must', 'impress', 'every', 'point', 'simply', 'due', 'engaging', 'also', 'self', 'lead', 'merge', 'speak', 'beautiful', 'however', 'come', 'average', 'flick', 'weekend', 'pick', 'random', 'watch', 'gleefully', 'carry', 'strong', 'sentiment', 'character', 'wash', 'one', 'beer', 'popcorn', 'certainly', 'need'] positive\n",
            "['one', 'word', 'young', 'demi', 'look', 'good', 'pregnant', 'point', 'movie', 'scary', 'first', 'scene', 'little', 'could', 'render', 'better', 'cloud', 'effect', 'get', 'old', 'well', 'worth', 'something', 'instead', 'like', 'exorcist', 'next', 'drama', 'part', 'beginning', 'simply'] negative\n",
            "['well', 'done', 'spooky', 'horror', 'movie', 'film', 'company', 'usually', 'put', 'really', 'cheesy', 'like', 'devil', 'bat', 'flying', 'serpent', 'german', 'expatriate', 'director', 'wonder', 'small', 'budget', 'swamp', 'set', 'gaunt', 'ghoulish', 'effective', 'strangler'] positive\n"
          ]
        }
      ],
      "source": [
        "# Print the 10 first elements of the training set\n",
        "for i in range(10):\n",
        "  print(X_train[i], y_train[i])"
      ]
    },
    {
      "cell_type": "code",
      "execution_count": null,
      "metadata": {
        "id": "1aXbt9gr-D-1"
      },
      "outputs": [],
      "source": [
        "# Encode \n",
        "X_train = [padding_and_encode(tweet, seq_length-2) for tweet in X_train] # -2 because of SOS and EOS\n",
        "X_test = [padding_and_encode(tweet, seq_length-2) for tweet in X_test] # -2 because of SOS and EOS\n",
        "# Make sure that the values in y_train are either 0 (0) or 1 (instead of 4)\n",
        "y_train = [0 if y == 'negative' else 1 for y in y_train]\n",
        "y_test = [0 if y == 'negative' else 1 for y in y_test]"
      ]
    },
    {
      "cell_type": "code",
      "execution_count": null,
      "metadata": {
        "colab": {
          "base_uri": "https://localhost:8080/"
        },
        "id": "OMaiJunpkjTA",
        "outputId": "340181b7-f3fd-4d68-8022-da2a5e09f8a0"
      },
      "outputs": [
        {
          "output_type": "stream",
          "name": "stdout",
          "text": [
            "[17738, 23660, 8821, 15183, 9367, 8422, 16617, 870, 8380, 21714, 27504, 9372, 12790, 25202, 28617, 9705, 24260, 30355, 8282, 24930, 579, 9612, 21675, 458, 8859, 24500, 18777, 30337, 26156, 5820, 1990, 16491, 2864, 23119, 14964, 26806, 3115, 12305, 2546, 10775, 5984, 22409, 9460, 7841, 19053, 7278, 14738, 8877, 25461, 10631, 29147, 24840, 10199, 12296, 26707, 28376, 23230, 20450, 27869, 4173, 2432, 14238, 1515, 4197, 4197, 4197, 4197, 4197, 4197, 4197, 4197, 4197, 4197, 4197, 4197, 4197, 4197, 4197, 4197, 4197, 4197, 4197, 4197, 4197, 4197, 4197, 4197, 4197, 4197, 4197, 4197, 4197, 4197, 4197, 4197, 4197, 4197, 4197, 4197, 4197] 1\n",
            "[17738, 28202, 16657, 932, 28645, 630, 10458, 29467, 4424, 5999, 20325, 10436, 22175, 4807, 10640, 28296, 7456, 18371, 10688, 3694, 15913, 1433, 26707, 6897, 3435, 9023, 16971, 19980, 13139, 16596, 16658, 9630, 16589, 26156, 14765, 20753, 14263, 3043, 10164, 2280, 4413, 1298, 21722, 4311, 23097, 19921, 579, 28617, 14435, 19941, 12347, 25668, 8438, 7681, 24290, 11075, 4003, 8859, 28226, 30216, 289, 11239, 24823, 17180, 17767, 26171, 15938, 3259, 29003, 11228, 15007, 3886, 16693, 16148, 26438, 23292, 16491, 2646, 2912, 27237, 11111, 16750, 14013, 19019, 19983, 26806, 4018, 27557, 26206, 1515, 4197, 4197, 4197, 4197, 4197, 4197, 4197, 4197, 4197, 4197] 1\n",
            "[17738, 26101, 1433, 26760, 18178, 24840, 6075, 1782, 23573, 8422, 7660, 6659, 19426, 724, 22241, 1361, 22034, 9367, 14563, 10767, 10164, 18721, 5101, 9062, 29355, 20733, 6528, 21722, 14306, 18921, 9460, 579, 9630, 10454, 8343, 4122, 7569, 25165, 8438, 5687, 13573, 25202, 1515, 4197, 4197, 4197, 4197, 4197, 4197, 4197, 4197, 4197, 4197, 4197, 4197, 4197, 4197, 4197, 4197, 4197, 4197, 4197, 4197, 4197, 4197, 4197, 4197, 4197, 4197, 4197, 4197, 4197, 4197, 4197, 4197, 4197, 4197, 4197, 4197, 4197, 4197, 4197, 4197, 4197, 4197, 4197, 4197, 4197, 4197, 4197, 4197, 4197, 4197, 4197, 4197, 4197, 4197, 4197, 4197, 4197] 0\n"
          ]
        }
      ],
      "source": [
        "for i, j in zip(X_train[:3], y_train[:3]):\n",
        "  print(i, j)"
      ]
    },
    {
      "cell_type": "markdown",
      "metadata": {
        "id": "R2gwgoMKuYMb"
      },
      "source": [
        "Since we only have a training set and test set, we split the training set into training and validation set."
      ]
    },
    {
      "cell_type": "code",
      "execution_count": null,
      "metadata": {
        "colab": {
          "base_uri": "https://localhost:8080/"
        },
        "id": "mkFvR1cYudfO",
        "outputId": "c22890fd-c7ea-458b-a102-2f26b39916a3"
      },
      "outputs": [
        {
          "output_type": "stream",
          "name": "stdout",
          "text": [
            "Number of training examples :  36000\n",
            "Number of validation examples :  9000\n"
          ]
        }
      ],
      "source": [
        "X_train, X_val, y_train, y_val = train_test_split(X_train, y_train, \n",
        "                                                  random_state = 42, \n",
        "                                                  shuffle = True, \n",
        "                                                  test_size = 0.2)\n",
        "\n",
        "# Now truncate the dataset because there is too much data\n",
        "keep_ratio = 1\n",
        "X_train, y_train = X_train[:int(len(X_train)*keep_ratio)], y_train[:int(len(y_train)*keep_ratio)]\n",
        "X_val, y_val = X_val[:int(len(X_val)*keep_ratio)], y_val[:int(len(y_val)*keep_ratio)]\n",
        "\n",
        "print(\"Number of training examples : \", len(X_train))\n",
        "print(\"Number of validation examples : \", len(X_val))\n"
      ]
    },
    {
      "cell_type": "code",
      "execution_count": null,
      "metadata": {
        "colab": {
          "base_uri": "https://localhost:8080/"
        },
        "id": "gj-wn4z-xQLt",
        "outputId": "29a4fb08-43eb-4875-dbeb-ec96eddb8b7d"
      },
      "outputs": [
        {
          "output_type": "stream",
          "name": "stdout",
          "text": [
            "[17738, 24344, 226, 18823, 5180, 631, 29927, 3570, 16491, 25100, 22925, 24267, 7574, 289, 5606, 904, 6554, 5078, 19145, 15187, 26157, 20710, 1433, 3964, 26999, 13117, 15121, 3528, 29058, 22587, 6275, 12877, 8326, 14067, 27018, 14164, 22293, 10624, 1485, 27069, 14554, 19138, 1636, 4844, 18192, 27573, 11308, 23888, 20601, 30553, 12296, 2379, 10607, 28627, 27985, 29948, 7332, 10688, 8412, 21059, 425, 5316, 10631, 17655, 2960, 26052, 15411, 14263, 3694, 18219, 17180, 6238, 705, 8877, 18441, 19977, 27557, 25461, 9328, 9800, 22305, 16383, 9155, 15787, 849, 25893, 15380, 1294, 9674, 1525, 20450, 8745, 7181, 15044, 10939, 15228, 27198, 19149, 13551, 1515] 1\n",
            "[17738, 19921, 9474, 13480, 6974, 27476, 12911, 15183, 26707, 14263, 162, 8422, 8380, 29346, 20534, 5314, 23292, 24488, 4826, 8362, 418, 3914, 2400, 22002, 23626, 24840, 18134, 25718, 22408, 9612, 26249, 25243, 12783, 1250, 7126, 14288, 16181, 7464, 16486, 8660, 19055, 21722, 11782, 4973, 1086, 5630, 2178, 18492, 10495, 6643, 24929, 24500, 18594, 5649, 9460, 23681, 15526, 2967, 15323, 1564, 17140, 12790, 25828, 4724, 17418, 1615, 11794, 17968, 28738, 4128, 2912, 4479, 3630, 284, 6210, 29423, 15082, 3937, 27985, 6811, 25024, 26806, 29923, 25584, 10427, 252, 29977, 2432, 27095, 16750, 16027, 22621, 20761, 15477, 26101, 23778, 2580, 21383, 27399, 1515] 1\n",
            "[17738, 13344, 13537, 29346, 16486, 10586, 15191, 5649, 16886, 27557, 29847, 13480, 26707, 4034, 22071, 3251, 9099, 4791, 10828, 14049, 12651, 24801, 7019, 21730, 30599, 29181, 22921, 12444, 831, 7507, 14563, 18665, 1519, 2960, 14893, 11571, 6442, 1361, 20464, 3809, 30168, 28090, 3207, 27282, 5943, 17765, 13628, 1932, 27237, 11803, 973, 3115, 23299, 14827, 23675, 19075, 26705, 16175, 26806, 10631, 28339, 23055, 7660, 28445, 22378, 24454, 20543, 10047, 8282, 27489, 17434, 15058, 2686, 23292, 3914, 15183, 23473, 28543, 14802, 24022, 21782, 21534, 6891, 24820, 1433, 9388, 11689, 30043, 28862, 24695, 21967, 9123, 15000, 7933, 14404, 29456, 27233, 3990, 20600, 1515] 1\n"
          ]
        }
      ],
      "source": [
        "for i, j in zip(X_train[:3], y_train[:3]):\n",
        "  print(i, j)"
      ]
    },
    {
      "cell_type": "markdown",
      "metadata": {
        "id": "PvoZBxauA2ln"
      },
      "source": [
        "# DataLoaders"
      ]
    },
    {
      "cell_type": "code",
      "execution_count": null,
      "metadata": {
        "id": "Za-9ayS9A6Zw"
      },
      "outputs": [],
      "source": [
        "batch_size = 10\n",
        "\n",
        "X_train = np.array(X_train)\n",
        "X_test = np.array(X_test)\n",
        "X_val = np.array(X_val)\n",
        "y_train = np.array(y_train)\n",
        "y_test = np.array(y_test)\n",
        "y_val = np.array(y_val)\n",
        "\n",
        "train_dataset = TensorDataset(torch.from_numpy(X_train), torch.from_numpy(y_train))\n",
        "val_dataset = TensorDataset(torch.from_numpy(X_val), torch.from_numpy(y_val))\n",
        "test_dataset = TensorDataset(torch.from_numpy(X_test), torch.from_numpy(y_test))\n",
        "\n",
        "\n",
        "# DataLoaders\n",
        "train_dataloader = DataLoader(train_dataset, shuffle=True, batch_size = batch_size, drop_last=True)\n",
        "val_dataloader = DataLoader(val_dataset, shuffle=True, batch_size = batch_size, drop_last=True)\n",
        "test_dataloader = DataLoader(test_dataset, shuffle=True, batch_size=len(X_test), drop_last=True)"
      ]
    },
    {
      "cell_type": "markdown",
      "metadata": {
        "id": "xdO-D4Z_dCC2"
      },
      "source": [
        "# Document embedding\n",
        "The document embedding will work in a different way from the word embedding. Instead of using an embedding layer into our RNN, we will directly transform the document into its embedded vector and provide that vector as an input to the RNN. This will thus require to use a RNN a bit modified from the previous one."
      ]
    },
    {
      "cell_type": "code",
      "execution_count": null,
      "metadata": {
        "colab": {
          "base_uri": "https://localhost:8080/"
        },
        "id": "4oG3wsiTdZv6",
        "outputId": "aace584c-2587-421f-a3df-0d1c97be206a"
      },
      "outputs": [
        {
          "output_type": "stream",
          "name": "stdout",
          "text": [
            "Loading doc2vec...\n"
          ]
        }
      ],
      "source": [
        "document_model = \"doc2vec\"\n",
        "#document_model = \"word2vec-tfidf\"\n",
        "\n",
        "embedding_dim = 300\n",
        "\n",
        "new_df_train = np.zeros((len(df_train), embedding_dim))\n",
        "new_df_test = np.zeros((len(df_test), embedding_dim))\n",
        "i = 0\n",
        "\n",
        "if document_model == \"doc2vec\":\n",
        "\n",
        "  print(\"Loading doc2vec...\")\n",
        "\n",
        "  d2v_model = Doc2Vec(vector_size=embedding_dim, min_count=2, epochs=30)\n",
        "\n",
        "  sentences = [TaggedDocument(sentence, [i]) for i,sentence in enumerate(df_train.text)]\n",
        "\n",
        "  d2v_model.build_vocab(sentences)\n",
        "  d2v_model.wv.vocab\n",
        "  d2v_model.train(sentences, total_examples=len(sentences), epochs=30)\n",
        "\n",
        "  for sentence in df_train.text:\n",
        "    new_df_train[i] = d2v_model.infer_vector(sentence)\n",
        "    i += 1\n",
        "\n",
        "  i = 0\n",
        "  for sentence in df_test.text:\n",
        "    new_df_test[i] = d2v_model.infer_vector(sentence)\n",
        "    i += 1\n",
        "\n",
        "elif document_model == \"word2vec-tfidf\":\n",
        "\n",
        "  print(\"Loading word2vec averaged with tf-idf...\")\n",
        "\n",
        "  # Loading word2vec\n",
        "  embedding_path = root + '/Word2Vec/GoogleNews-vectors-negative300.bin'\n",
        "        \n",
        "  # Load the vocabulary and the corresponding vectors\n",
        "  model_w2v = KeyedVectors.load_word2vec_format(root + '/Word2Vec/GoogleNews-vectors-negative300.bin', binary=True)\n",
        "\n",
        "  dictionary = Dictionary()\n",
        "  bow_corpus = [dictionary.doc2bow(doc, allow_update=True) for doc in df_train.text]\n",
        "\n",
        "  tfidf = TfidfModel(bow_corpus, smartirs='ntc')\n",
        "\n",
        "  unknown = 0\n",
        "  num_words = 0\n",
        "  #i = 0\n",
        "\n",
        "  for doc in tfidf[bow_corpus]:\n",
        "    if i % 5000 == 0:\n",
        "      print(i, \"/\", len(df_train))\n",
        "\n",
        "    total_freq = 0 #used to normalize the weigths\n",
        "\n",
        "    for id, freq in doc:\n",
        "      total_freq += freq\n",
        "\n",
        "    #Bulding the vector for each document\n",
        "    for id, freq in doc: \n",
        "      num_words += 1\n",
        "      word = dictionary[id]\n",
        "      #print(word)\n",
        "      if word in model_w2v.vocab:\n",
        "        embedding_vector = model_w2v[word]\n",
        "        embedding_vector = np.array(embedding_vector)\n",
        "        new_df_train[i] += (freq/total_freq)*embedding_vector\n",
        "      else:\n",
        "        unknown += 1\n",
        "\n",
        "    i += 1\n",
        "\n",
        "  print(unknown/num_words)\n",
        "\n",
        "  # Now we do the same but for df_test\n",
        "  unknown = 0\n",
        "  num_words = 0\n",
        "  i = 0\n",
        "  dictionary = Dictionary()\n",
        "  bow_corpus = [dictionary.doc2bow(doc, allow_update=True) for doc in df_test.text]\n",
        "\n",
        "  tfidf = TfidfModel(bow_corpus, smartirs='ntc')\n",
        "\n",
        "  for doc in tfidf[bow_corpus]:\n",
        "    if i % 500 == 0:\n",
        "      print(i, \"/\", len(df_test))\n",
        "\n",
        "    total_freq = 0 #used to normalize the weigths\n",
        "\n",
        "    for id, freq in doc:\n",
        "      total_freq += freq\n",
        "\n",
        "    #Bulding the vector for each document\n",
        "    for id, freq in doc: \n",
        "      num_words += 1\n",
        "      word = dictionary[id]\n",
        "      #print(word)\n",
        "      if word in model_w2v.vocab:\n",
        "        embedding_vector = model_w2v[word]\n",
        "        embedding_vector = np.array(embedding_vector)\n",
        "        new_df_test[i] += (freq/total_freq)*embedding_vector\n",
        "      else:\n",
        "        unknown += 1\n",
        "\n",
        "    i += 1\n",
        "  print(unknown/num_words)\n",
        "\n",
        "  "
      ]
    },
    {
      "cell_type": "code",
      "execution_count": null,
      "metadata": {
        "id": "WUKRH6dXdeiM",
        "colab": {
          "base_uri": "https://localhost:8080/"
        },
        "outputId": "2a917896-bc6c-45f0-d97c-0bc1224acd56"
      },
      "outputs": [
        {
          "output_type": "stream",
          "name": "stdout",
          "text": [
            "(5000, 300)\n",
            "(45000, 300)\n"
          ]
        }
      ],
      "source": [
        "print(new_df_test.shape)\n",
        "print(new_df_train.shape)"
      ]
    },
    {
      "cell_type": "code",
      "execution_count": null,
      "metadata": {
        "id": "_GVkrMrHdf1E"
      },
      "outputs": [],
      "source": [
        "y_train = df_train[\"sentiment\"].tolist()\n",
        "y_test = df_test[\"sentiment\"].tolist()\n",
        "y_train = [0 if y == 'negative' else 1 for y in y_train]\n",
        "y_test = [0 if y == 'negative' else 1 for y in y_test]"
      ]
    },
    {
      "cell_type": "code",
      "execution_count": null,
      "metadata": {
        "id": "80cW_V7Cdimz"
      },
      "outputs": [],
      "source": [
        "X_train, X_val, y_train, y_val = train_test_split(new_df_train, y_train, \n",
        "                                                  random_state = 42, \n",
        "                                                  shuffle = True, \n",
        "                                                  test_size = 0.2)"
      ]
    },
    {
      "cell_type": "code",
      "execution_count": null,
      "metadata": {
        "colab": {
          "base_uri": "https://localhost:8080/"
        },
        "id": "IUmmB3jrdkQk",
        "outputId": "1dc11ecf-cace-460c-b110-33755df5d591"
      },
      "outputs": [
        {
          "output_type": "stream",
          "name": "stdout",
          "text": [
            "(300,)\n"
          ]
        }
      ],
      "source": [
        "print(X_train[0].shape)"
      ]
    },
    {
      "cell_type": "code",
      "execution_count": null,
      "metadata": {
        "colab": {
          "base_uri": "https://localhost:8080/"
        },
        "id": "dtNO-s_idk0X",
        "outputId": "07bafd4f-3a34-480e-c5c0-d3780ae04e2e"
      },
      "outputs": [
        {
          "output_type": "stream",
          "name": "stdout",
          "text": [
            "(36000, 1, 300)\n"
          ]
        }
      ],
      "source": [
        "batch_size = 10\n",
        "\n",
        "X_train = [[doc] for doc in X_train]\n",
        "X_train = np.array(X_train)\n",
        "print(X_train.shape)\n",
        "X_test = [[doc] for doc in new_df_test]\n",
        "X_test = np.array(X_test)\n",
        "X_val = [[doc] for doc in X_val]\n",
        "X_val = np.array(X_val)\n",
        "y_train = np.array(y_train)\n",
        "y_test = np.array(y_test)\n",
        "y_val = np.array(y_val)\n",
        "\n",
        "train_dataset = TensorDataset(torch.from_numpy(X_train).float(), torch.from_numpy(y_train))\n",
        "val_dataset = TensorDataset(torch.from_numpy(X_val).float(), torch.from_numpy(y_val))\n",
        "test_dataset = TensorDataset(torch.from_numpy(X_test).float(), torch.from_numpy(y_test))\n",
        "\n",
        "train_dataloader = DataLoader(train_dataset, shuffle=True, batch_size = batch_size, drop_last=True)\n",
        "val_dataloader = DataLoader(val_dataset, shuffle=True, batch_size = batch_size, drop_last=True)\n",
        "test_dataloader = DataLoader(test_dataset, shuffle=True, batch_size=batch_size, drop_last=True)"
      ]
    },
    {
      "cell_type": "markdown",
      "metadata": {
        "id": "CbTtyocUWuoC"
      },
      "source": [
        "# Model architecture\n",
        "To train the model, we will use the following architectures :\n",
        "- RNN : \n",
        "  - Embedding layer (pre-trained GloVe, Word2Vec, FastText)\n",
        "    https://medium.com/@martinpella/how-to-use-pre-trained-word-embeddings-in-pytorch-71ca59249f76\n",
        "    The weights of the embedding_matrix will be loaded into that layer.\n",
        "  - LSTM layer or GRU layer\n",
        "  - Linear layer\n",
        "\n",
        "Or we can use the following architecture :\n",
        "- Transformer architecture (self attention)\n",
        "\n",
        "Or the following architecture : \n",
        "- RNN + Attention\n",
        "  - Embedding layer (pre-trained GloVe, Word2Vec, FastText)\n",
        "  - LSTM layer or GRU layer\n",
        "  - Attention layer\n",
        "  - Linear layer\n",
        "\n",
        "Or the following architecture:\n",
        "- RNN + Attention for document embedding\n",
        "  - LSTM layer or GRU layer\n",
        "  - Attention layer\n",
        "  - Linear layer\n",
        "\n",
        "Finally, we can use the following architecture:\n",
        "- RNN for document embedding : \n",
        "  - LSTM layer or GRU layer\n",
        "  - Linear layer"
      ]
    },
    {
      "cell_type": "code",
      "execution_count": null,
      "metadata": {
        "id": "Reyt1GwSDRRr"
      },
      "outputs": [],
      "source": [
        "def CreateEmbeddingLayer(embedding_matrix, padding_id, non_trainable=False):\n",
        "  # Retrieve dimensions of embedding\n",
        "  num_embeddings, embedding_dim = embedding_matrix.shape\n",
        "\n",
        "  # Initialize nn.Embedding with the pre-trained weights\n",
        "  embedding_layer = nn.Embedding(num_embeddings, embedding_dim, padding_idx=padding_id)\n",
        "  embedding_layer.load_state_dict({'weight': torch.from_numpy(embedding_matrix)})\n",
        "\n",
        "  if non_trainable:\n",
        "    embedding_layer.weight.requires_grad = False\n",
        "\n",
        "  return embedding_layer, num_embeddings, embedding_dim"
      ]
    },
    {
      "cell_type": "code",
      "execution_count": null,
      "metadata": {
        "id": "Sdq7L4R6sJ11"
      },
      "outputs": [],
      "source": [
        "def positional_encoding(seq_length, embedding_dim):\n",
        "  pos_enc = np.array([\n",
        "      [pos / np.power(10000, 2 * (j // 2) / embedding_dim) for j in range(embedding_dim)]\n",
        "      if pos != 0 else np.zeros(embedding_dim) for pos in range(seq_length)\n",
        "  ])\n",
        "  pos_enc[1:, 0::2] = np.sin(pos_enc[1:, 0::2]) # dim 2i\n",
        "  pos_enc[1:, 1::2] = np.cos(pos_enc[1:, 1::2]) # dim 2i+1\n",
        "  \n",
        "  return torch.from_numpy(pos_enc).type(torch.FloatTensor).to(device)"
      ]
    },
    {
      "cell_type": "markdown",
      "metadata": {
        "id": "SMmiBdkAYJrI"
      },
      "source": [
        "## RNN"
      ]
    },
    {
      "cell_type": "code",
      "execution_count": null,
      "metadata": {
        "id": "cOrXOnN1AyJs"
      },
      "outputs": [],
      "source": [
        "class RNN(nn.Module):\n",
        "    def __init__(self, embedding_matrix, hidden_dim, dropout, bidirectional, padding_id, num_layers, type):\n",
        "      super().__init__()\n",
        "\n",
        "      # Embedding layer\n",
        "      self.embedding, num_embeddings, embedding_dim = CreateEmbeddingLayer(embedding_matrix, padding_id, True)\n",
        "\n",
        "      # LSTM or GRU\n",
        "      if type==\"LSTM\":\n",
        "        self.model = nn.LSTM(embedding_dim, \n",
        "                            hidden_dim, \n",
        "                            batch_first = True, \n",
        "                            dropout = dropout,\n",
        "                            bidirectional = bidirectional)\n",
        "      elif type==\"GRU\":\n",
        "        self.model = nn.GRU(embedding_dim,\n",
        "                            hidden_dim,\n",
        "                            num_layers = num_layers,\n",
        "                            dropout = dropout,\n",
        "                            bidirectional = bidirectional)\n",
        "\n",
        "      # Fully-connected layer\n",
        "      self.fc = nn.Linear(hidden_dim * 2, 2)\n",
        "      # The output of the fully connected layer is a vector of size 2 containing\n",
        "      # the probability of the tweet to belong to either positive or negative\n",
        "      # class (--> 2 classes)\n",
        "\n",
        "      # Dropout\n",
        "      self.dropout = nn.Dropout(dropout)\n",
        "\n",
        "    def forward(self, input):\n",
        "\n",
        "      # Embed the input\n",
        "      embs = self.dropout(self.embedding(input))\n",
        "\n",
        "      # pack sequence\n",
        "      # lengths need to be on CPU!\n",
        "      # This will cause the RNN to only process non-padded elements\n",
        "      #packed_embedded = nn.utils.rnn.pack_padded_sequence(embs, input_length.to('cpu'))\n",
        "\n",
        "      # Feed embeddings to LSTM\n",
        "      packed_output, (hidden, cell) = self.model(embs)\n",
        "\n",
        "      # Apply droupout\n",
        "      # Dropout is applied to the concatenation of the final forward and backward hidden layers\n",
        "      # (Because of bidirectionality)\n",
        "      out = self.dropout(torch.cat((hidden[-2,:,:], hidden[-1,:,:]), dim = 1))\n",
        "\n",
        "      # Through fully connected layer\n",
        "      out = self.fc(out)\n",
        "\n",
        "      return out\n",
        "    \n",
        "    def init_hidden(self):\n",
        "      \"\"\"At the beginning of the sequence, there are no hidden state.\n",
        "          Thus, we need to initialise the hidden state vector.\"\"\"\n",
        "\n",
        "      return (torch.zeros(2, batch_size, 32), torch.zeros(2, batch_size, 32))\n"
      ]
    },
    {
      "cell_type": "markdown",
      "metadata": {
        "id": "zlqu-0LAYJrI"
      },
      "source": [
        "## Transformer"
      ]
    },
    {
      "cell_type": "code",
      "execution_count": null,
      "metadata": {
        "id": "ld1FDyXSsJ11"
      },
      "outputs": [],
      "source": [
        "class SelfAttention(nn.Module):\n",
        "  def __init__(self, embedding_dim):\n",
        "    super(SelfAttention, self).__init__()\n",
        "    self.embedding_dim = embedding_dim\n",
        "    self.query = nn.Linear(embedding_dim, embedding_dim)\n",
        "    self.key = nn.Linear(embedding_dim, embedding_dim)\n",
        "    self.value = nn.Linear(embedding_dim, embedding_dim)\n",
        "    self.scale = torch.sqrt(torch.FloatTensor([embedding_dim])).to(device)\n",
        "    self.softmax = nn.Softmax(dim=-1)\n",
        "    self.dropout = nn.Dropout(0.1)\n",
        "    self.out = nn.Linear(embedding_dim, embedding_dim)\n",
        "  \n",
        "  def forward(self, x):\n",
        "    batch_size = x.shape[0]\n",
        "    # x = [batch size, seq len, embedding dim]\n",
        "    Q = self.query(x)\n",
        "    K = self.key(x)\n",
        "    V = self.value(x)\n",
        "    # Q, K, V = [batch size, seq len, embedding dim]\n",
        "    energy = torch.matmul(Q, K.permute(0, 2, 1)) / self.scale\n",
        "    # energy = [batch size, seq len, seq len]\n",
        "    attention = self.softmax(energy)\n",
        "    # attention = [batch size, seq len, seq len]\n",
        "    x = torch.matmul(self.dropout(attention), V)\n",
        "    # x = [batch size, seq len, embedding dim]\n",
        "    x = self.out(x)\n",
        "    # x = [batch size, seq len, embedding dim]\n",
        "    return x, attention"
      ]
    },
    {
      "cell_type": "code",
      "execution_count": null,
      "metadata": {
        "id": "s3V5rl-WsJ11"
      },
      "outputs": [],
      "source": [
        "# Attention layer\n",
        "class TransformerAttention(nn.Module):\n",
        "  def __init__(self, embedding_matrix, heads, padding_id, max_sequence_length, dropout=0.1):\n",
        "    super(TransformerAttention, self).__init__()\n",
        "    \n",
        "    # Embedding layer\n",
        "    self.embedding, num_embeddings, embedding_dim = CreateEmbeddingLayer(embedding_matrix, padding_id, True)\n",
        "    self.embedding_dim = embedding_dim\n",
        "    self.heads = heads\n",
        "    self.head_dim = embedding_dim // heads\n",
        "    self.max_sequence_length = max_sequence_length\n",
        "    \n",
        "    assert (self.head_dim * heads == embedding_dim), \"Embedding dimension should be divisible by heads\"\n",
        "\n",
        "    self.attention = SelfAttention(self.embedding_dim)\n",
        "    self.dropout = nn.Dropout(dropout)\n",
        "    # Linear layer of size d_model * d_model\n",
        "    self.fc = nn.Linear(self.embedding_dim, self.embedding_dim)\n",
        "    # Linear project layer of size d_model * d_classes\n",
        "    self.fc_out = nn.Linear(embedding_dim, 2)\n",
        "\n",
        "  def forward(self, inputs):\n",
        "    # Fetch embedding from input\n",
        "    embs = self.embedding(inputs)\n",
        "    \n",
        "    # Embeddings are fed in as (batch_size, seq_length, embedding_dim)\n",
        "    # Add position encoding to the embeddings\n",
        "    embs = embs + positional_encoding(self.max_sequence_length, self.embedding_dim)\n",
        "    \n",
        "    # Apply dropout\n",
        "    embs = self.dropout(embs) # (batch_size, seq_length, embedding_dim)\n",
        "    \n",
        "    # Apply self attention once \n",
        "    new_embs, attention = self.attention(embs)\n",
        "      \n",
        "    # Average the attention embeddings\n",
        "    avg = torch.mean(new_embs, dim=1)\n",
        "    \n",
        "    # Feed the average attention heads through a fully connected layer\n",
        "    sentence_rep = self.fc(avg) # (batch_size, seq_length, seq_length)\n",
        "    \n",
        "    # Linear projection of size d_model * nb_classes\n",
        "    classes = self.fc_out(sentence_rep) # classes = [batch size, nb_classes]\n",
        "    \n",
        "    # Softmax \n",
        "    out = F.softmax(classes, dim = 1) # out = [batch size, nb_classes]\n",
        "  \n",
        "    return out"
      ]
    },
    {
      "cell_type": "markdown",
      "metadata": {
        "id": "mD7uTJeNlRJb"
      },
      "source": [
        "## RNN + Attention"
      ]
    },
    {
      "cell_type": "code",
      "execution_count": null,
      "metadata": {
        "id": "nhZoTC1OlRJb"
      },
      "outputs": [],
      "source": [
        "#performer_pytorch FastAttention\n",
        "class SelfAttention(nn.Module):\n",
        "  def __init__(self, embedding_dim):\n",
        "    super(SelfAttention, self).__init__()\n",
        "    self.embedding_dim = embedding_dim\n",
        "    self.query = nn.Linear(embedding_dim, embedding_dim)\n",
        "    self.key = nn.Linear(embedding_dim, embedding_dim)\n",
        "    self.value = nn.Linear(embedding_dim, embedding_dim)\n",
        "    self.scale = torch.sqrt(torch.FloatTensor([embedding_dim])).to(device)\n",
        "    self.softmax = nn.Softmax(dim=-1)\n",
        "    self.dropout = nn.Dropout(0.1)\n",
        "    self.out = nn.Linear(embedding_dim, embedding_dim)\n",
        "  \n",
        "  def forward(self, x):\n",
        "    batch_size = x.shape[0]\n",
        "    # x = [batch size, seq len, embedding dim]\n",
        "    Q = self.query(x)\n",
        "    K = self.key(x)\n",
        "    V = self.value(x)\n",
        "    # Q, K, V = [batch size, seq len, embedding dim]\n",
        "    energy = torch.matmul(Q, K.permute(0, 2, 1)) / self.scale\n",
        "    # energy = [batch size, seq len, seq len]\n",
        "    attention = self.softmax(energy)\n",
        "    # attention = [batch size, seq len, seq len]\n",
        "    x = torch.matmul(self.dropout(attention), V)\n",
        "    # x = [batch size, seq len, embedding dim]\n",
        "    x = self.out(x)\n",
        "    # x = [batch size, seq len, embedding dim]\n",
        "    return x, attention"
      ]
    },
    {
      "cell_type": "code",
      "execution_count": null,
      "metadata": {
        "id": "49QVzDe3lRJb"
      },
      "outputs": [],
      "source": [
        "class AttentiveRNN(nn.Module):\n",
        "  def __init__(self, embedding_matrix, hidden_size, bidirectional, padding_id, max_sequence_length, dropout=0.1, type='LSTM'):\n",
        "    super(AttentiveRNN, self).__init__()\n",
        "    \n",
        "    # Embedding layer\n",
        "    self.embedding, num_embeddings, embedding_dim = CreateEmbeddingLayer(embedding_matrix, padding_id, True)\n",
        "    self.embedding_dim = embedding_dim\n",
        "    self.hidden_size = hidden_size\n",
        "    self.max_sequence_length = max_sequence_length\n",
        "    \n",
        "    # Dropout layer\n",
        "    self.dropout = nn.Dropout(dropout)\n",
        "    \n",
        "    # LSTM layer or GRU layer\n",
        "    if type == \"LSTM\":\n",
        "      self.rnn = nn.LSTM(embedding_dim, hidden_size, bidirectional=bidirectional, batch_first=True)\n",
        "    else:\n",
        "      self.rnn = nn.GRU(embedding_dim, hidden_size, bidirectional=bidirectional, batch_first=True)\n",
        "    \n",
        "    # Attention layer\n",
        "    self.attention = SelfAttention(hidden_size * 2)\n",
        "    \n",
        "    # Linear layer of size d_model * d_model\n",
        "    self.fc = nn.Linear(hidden_size * 2, hidden_size * 2)\n",
        "    # Linear project layer of size d_model * d_classes\n",
        "    self.fc_out = nn.Linear(hidden_size * 2, 2)\n",
        "\n",
        "  def forward(self, inputs):\n",
        "    # Fetch embedding from input\n",
        "    embs = self.embedding(inputs)\n",
        "    \n",
        "    # Embeddings are fed in as (batch_size, seq_length, embedding_dim)\n",
        "    # Add position encoding to the embeddings\n",
        "    # embs = embs + positional_encoding(self.max_sequence_length, self.embedding_dim)\n",
        "    \n",
        "    # Apply dropout\n",
        "    embs = self.dropout(embs) # (batch_size, seq_length, embedding_dim)\n",
        "    \n",
        "    # Apply LSTM\n",
        "    lstm_out, (hidden, cell) = self.rnn(embs)\n",
        "    \n",
        "    # Apply self attention once \n",
        "    new_embs, attention = self.attention(lstm_out)\n",
        "      \n",
        "    # Average the attention embeddings\n",
        "    avg = torch.mean(new_embs, dim=1)\n",
        "    \n",
        "    # Feed the average attention heads through a fully connected layer\n",
        "    sentence_rep = self.fc(avg) # (batch_size, seq_length, seq_length)\n",
        "    \n",
        "    # Linear projection of size d_model * nb_classes\n",
        "    classes = self.fc_out(sentence_rep) # classes = [batch size, nb_classes]\n",
        "    \n",
        "    # Softmax \n",
        "    out = F.softmax(classes, dim = 1) # out = [batch size, nb_classes]\n",
        "  \n",
        "    return out"
      ]
    },
    {
      "cell_type": "markdown",
      "metadata": {
        "id": "-TLQZrxAenlu"
      },
      "source": [
        "# RNN for document embedding"
      ]
    },
    {
      "cell_type": "code",
      "execution_count": null,
      "metadata": {
        "id": "QSKWsBuuioBK"
      },
      "outputs": [],
      "source": [
        "class RNN_Doc_Emb(nn.Module):\n",
        "    def __init__(self, hidden_dim, dropout, bidirectional, num_layers, type):\n",
        "      super().__init__()\n",
        "\n",
        "      # Embedding layer\n",
        "      #self.embedding, num_embeddings, embedding_dim = CreateEmbeddingLayer(embedding_matrix, padding_id, True)\n",
        "\n",
        "      # LSTM or GRU\n",
        "      if type==\"LSTM\":\n",
        "        self.model = nn.LSTM(embedding_dim, \n",
        "                            hidden_dim, \n",
        "                            batch_first = True, \n",
        "                            dropout = dropout,\n",
        "                            bidirectional = bidirectional)\n",
        "      elif type==\"GRU\":\n",
        "        self.model = nn.GRU(embedding_dim,\n",
        "                            hidden_dim,\n",
        "                            num_layers = num_layers,\n",
        "                            dropout = dropout,\n",
        "                            bidirectional = bidirectional)\n",
        "\n",
        "      # Fully-connected layer\n",
        "      self.fc = nn.Linear(hidden_dim * 2, 2)\n",
        "      # The output of the fully connected layer is a vector of size 2 containing\n",
        "      # the probability of the tweet to belong to either positive or negative\n",
        "      # class (--> 2 classes)\n",
        "\n",
        "      # Dropout\n",
        "      self.dropout = nn.Dropout(dropout)\n",
        "\n",
        "    def forward(self, input):\n",
        "\n",
        "      # Embed the input\n",
        "      embs = self.dropout(input)\n",
        "\n",
        "      # pack sequence\n",
        "      # lengths need to be on CPU!\n",
        "      # This will cause the RNN to only process non-padded elements\n",
        "      #packed_embedded = nn.utils.rnn.pack_padded_sequence(embs, input_length.to('cpu'))\n",
        "\n",
        "      # Feed embeddings to LSTM\n",
        "      packed_output, (hidden, cell) = self.model(input)\n",
        "\n",
        "      # Apply droupout\n",
        "      # Dropout is applied to the concatenation of the final forward and backward hidden layers\n",
        "      # (Because of bidirectionality)\n",
        "      out = self.dropout(torch.cat((hidden[-2,:,:], hidden[-1,:,:]), dim = 1))\n",
        "\n",
        "      # Through fully connected layer\n",
        "      out = self.fc(out)\n",
        "\n",
        "      return out\n",
        "    \n",
        "    def init_hidden(self):\n",
        "      \"\"\"At the beginning of the sequence, there are no hidden state.\n",
        "          Thus, we need to initialise the hidden state vector.\"\"\"\n",
        "\n",
        "      return (torch.zeros(2, batch_size, 32), torch.zeros(2, batch_size, 32))"
      ]
    },
    {
      "cell_type": "code",
      "execution_count": null,
      "metadata": {
        "id": "bHNDFvxDeqGk"
      },
      "outputs": [],
      "source": [
        "class AttentiveRNN_Doc_emb(nn.Module):\n",
        "  def __init__(self, hidden_size, bidirectional, dropout=0.1, type='LSTM'):\n",
        "    super(AttentiveRNN_Doc_emb, self).__init__()\n",
        "    \n",
        "    # Embedding layer\n",
        "    self.hidden_size = hidden_size\n",
        "    \n",
        "    # Dropout layer\n",
        "    self.dropout = nn.Dropout(dropout)\n",
        "    \n",
        "    # LSTM layer or GRU layer\n",
        "    if type == \"LSTM\":\n",
        "      self.rnn = nn.LSTM(embedding_dim, hidden_size, bidirectional=bidirectional, batch_first=True)\n",
        "    else:\n",
        "      self.rnn = nn.GRU(embedding_dim, hidden_size, bidirectional=bidirectional, batch_first=True)\n",
        "    \n",
        "    # Attention layer\n",
        "    self.attention = SelfAttention(hidden_size * 2)\n",
        "    \n",
        "    # Linear layer of size d_model * d_model\n",
        "    self.fc = nn.Linear(hidden_size * 2, hidden_size * 2)\n",
        "    # Linear project layer of size d_model * d_classes\n",
        "    self.fc_out = nn.Linear(hidden_size * 2, 2)\n",
        "\n",
        "  def forward(self, inputs):\n",
        "    \n",
        "    # Apply dropout\n",
        "    embs = self.dropout(inputs) # (batch_size, seq_length, embedding_dim)\n",
        "    \n",
        "    # Apply LSTM\n",
        "    lstm_out, (hidden, cell) = self.rnn(embs)\n",
        "    \n",
        "    # Apply self attention once \n",
        "    new_embs, attention = self.attention(lstm_out)\n",
        "      \n",
        "    # Average the attention embeddings\n",
        "    avg = torch.mean(new_embs, dim=1)\n",
        "    \n",
        "    # Feed the average attention heads through a fully connected layer\n",
        "    sentence_rep = self.fc(avg) # (batch_size, seq_length, seq_length)\n",
        "    \n",
        "    # Linear projection of size d_model * nb_classes\n",
        "    classes = self.fc_out(sentence_rep) # classes = [batch size, nb_classes]\n",
        "    \n",
        "    # Softmax \n",
        "    out = F.softmax(classes, dim = 1) # out = [batch size, nb_classes]\n",
        "  \n",
        "    return out"
      ]
    },
    {
      "cell_type": "markdown",
      "metadata": {
        "id": "jphW0ft_GJVG"
      },
      "source": [
        "# Training utils"
      ]
    },
    {
      "cell_type": "code",
      "execution_count": null,
      "metadata": {
        "id": "p-pCg_J-0QKK"
      },
      "outputs": [],
      "source": [
        "\"\"\"The learnable parametrs of a model are contained in the model's parameters.\n",
        "A state_dict is dictionary that maps each layer to its parameter tensor.\n",
        "The state_dict thus contains all the useful information about the model and must be saved after training. (To maybe be re-loaded later on)\"\"\"\n",
        "def saveModel(model, optimizer):\n",
        "  # Save model\n",
        "  now = time.localtime(time.time())\n",
        "  now_str = time.strftime(\"%a %b %d\", now)\n",
        "\n",
        "  checkpoint = {\n",
        "      'state_dict': model.state_dict(),\n",
        "      'optimizer': optimizer.state_dict()\n",
        "  }\n",
        "\n",
        "  save_path = root + \"/Models/\" + now_str + \".pth\"\n",
        "  torch.save(checkpoint, save_path)\n",
        "  \n",
        "  \n",
        "def progressBar(loss_training, loss_validation, estimated_time, percent, width = 40):\n",
        "\n",
        "    # Setting up the useful information\n",
        "    left  = width * percent // 100\n",
        "    right = width - left\n",
        "    tags = \"#\" * int(left)\n",
        "    spaces = \" \" * int(right)\n",
        "    percents = f\"{percent:.2f} %\"\n",
        "    loss_training = f\"{loss_training * 1:.6f}\"\n",
        "    loss_validation = f\"{loss_validation * 1:.6f}\"\n",
        "    estimated_time = f\"{estimated_time:.2f}\"\n",
        "\n",
        "    # Displaying a really cool progress bar !\n",
        "    print(\"\\r[\", tags, spaces, \"] - \", percents, \" | Loss (Training) = \", loss_training, \" | Loss (Validation) = \", loss_validation,  \" | Time left : \", estimated_time ,sep=\"\", end=\"\", flush = True)\n",
        "    \n",
        "def binary_accuracy(preds, y):\n",
        "  \"\"\"\n",
        "  Returns the accuracy per batch\n",
        "  \"\"\"\n",
        "\n",
        "  prob_preds = torch.nn.Softmax(dim=-1)(preds)\n",
        "  #print(preds)\n",
        "  #rounded_preds = torch.round(torch.sigmoid(preds))\n",
        "  final_preds = torch.argmax(prob_preds, dim=1)\n",
        "  correct = (final_preds == y).float()\n",
        "  acc = correct.sum() / len(correct)\n",
        "  return acc\n"
      ]
    },
    {
      "cell_type": "markdown",
      "metadata": {
        "id": "2ITzWlD0YJrJ"
      },
      "source": [
        "# Model Training"
      ]
    },
    {
      "cell_type": "markdown",
      "metadata": {
        "id": "wja-QRV0HIQj"
      },
      "source": [
        "## Training Parameters"
      ]
    },
    {
      "cell_type": "code",
      "execution_count": null,
      "metadata": {
        "id": "jRiSJulQjjum"
      },
      "outputs": [],
      "source": [
        "# Global parameters\n",
        "MODEL_NAME = \"AttentiveRNN\" # Can be \"RNN\", or \"Transformer\" or \"AttentiveRNN\" or \"DocumentEmbs\"\n",
        "RNN_TYPE = \"LSTM\" # Can be \"LSTM\" or \"GRU\"\n",
        "DROPOUT = 0.2\n",
        "NB_EPOCHS = 20\n",
        "PADDING_ID = word2index[\"<PAD>\"]\n",
        "# ATTENTION :\n",
        "# Learning the embedding of <PAD> tokens is irrelevant to determine the sentiment of a tweet!\n",
        "# The embedding for this token must stay what it was initialized to. To do that, we need to tell the newtork that # this token must not be learnt. \n",
        "\n",
        "# Automatic save \n",
        "checkpoints = [2, 5, 10, 15, 20]\n",
        "\n",
        "#--------------------------------------#\n",
        "# RNN model parameters\n",
        "HIDDEN_DIM = 32 #tested 256 but barely changed the results\n",
        "BIDIRECTIONAL = True\n",
        "NUM_LAYERS = 2 # For GRUs\n",
        "\n",
        "#--------------------------------------#\n",
        "# Transformer model parameters\n",
        "HEADS = 1\n",
        "\n",
        "\n",
        "#--------------------------------------#\n",
        "#                  MODEL               #\n",
        "#--------------------------------------#\n",
        "if MODEL_NAME == \"RNN\":\n",
        "  model = RNN(embedding, HIDDEN_DIM, DROPOUT, BIDIRECTIONAL, PADDING_ID, NUM_LAYERS, RNN_TYPE)\n",
        "elif MODEL_NAME == \"Transformer\":\n",
        "  model = TransformerAttention(embedding, HEADS, PADDING_ID, seq_length, DROPOUT)\n",
        "elif MODEL_NAME == \"AttentiveRNN\":\n",
        "  model = AttentiveRNN(embedding, HIDDEN_DIM, BIDIRECTIONAL, PADDING_ID, seq_length, dropout=DROPOUT, type=RNN_TYPE)\n",
        "elif MODEL_NAME == \"DocumentEmbs\":\n",
        "  model = RNN_Doc_Emb(HIDDEN_DIM, DROPOUT, BIDIRECTIONAL, NUM_LAYERS, RNN_TYPE)\n",
        "  #model = AttentiveRNN_Doc_emb(HIDDEN_DIM, BIDIRECTIONAL, dropout=DROPOUT, type=RNN_TYPE)\n",
        "\n",
        "model = model.to(device) # Move to GPU\n",
        "\n",
        "# Criterion\n",
        "criterion = nn.CrossEntropyLoss().to(device)\n",
        "\n",
        "# Optimizer\n",
        "optimizer = torch.optim.Adam(model.parameters())"
      ]
    },
    {
      "cell_type": "markdown",
      "source": [
        "#### Early stopping"
      ],
      "metadata": {
        "id": "1Y_uS6AcpTen"
      }
    },
    {
      "cell_type": "code",
      "execution_count": null,
      "metadata": {
        "id": "XVETTDl6ef0K"
      },
      "outputs": [],
      "source": [
        "patience = 6    # Number of epochs to wait before early stopping\n",
        "epochs_no_improve = 0  # Number of epochs with no improvement in validation loss\n",
        "early_stop = False    # Boolean to activate early stopping"
      ]
    },
    {
      "cell_type": "code",
      "execution_count": null,
      "metadata": {
        "colab": {
          "base_uri": "https://localhost:8080/"
        },
        "id": "4nMxfAEKHPpu",
        "outputId": "ec562237-6e9b-4b2d-a18e-f545426361cd"
      },
      "outputs": [
        {
          "output_type": "stream",
          "name": "stdout",
          "text": [
            "EPOCH 0:\n",
            "[########################################] - 100.00 % | Loss (Training) = 0.489978 | Loss (Validation) = 0.459134 | Time left : 0.00\n",
            "\n",
            "EPOCH 1:\n",
            "[########################################] - 100.00 % | Loss (Training) = 0.457067 | Loss (Validation) = 0.467349 | Time left : 0.00\n",
            "\n",
            "EPOCH 2:\n",
            "[########################################] - 100.00 % | Loss (Training) = 0.449007 | Loss (Validation) = 0.444444 | Time left : 0.00\n",
            "\n",
            "EPOCH 3:\n",
            "[########################################] - 100.00 % | Loss (Training) = 0.442717 | Loss (Validation) = 0.443138 | Time left : 0.00\n",
            "\n",
            "EPOCH 4:\n",
            "[########################################] - 100.00 % | Loss (Training) = 0.438551 | Loss (Validation) = 0.446617 | Time left : 0.00\n",
            "\n",
            "EPOCH 5:\n",
            "[########################################] - 100.00 % | Loss (Training) = 0.433558 | Loss (Validation) = 0.413772 | Time left : 8.46Early stopping!\n",
            "---------------------------------------------------------------------\n",
            "               Finished training and model saved                     \n",
            "---------------------------------------------------------------------\n"
          ]
        }
      ],
      "source": [
        "# Store training info\n",
        "losses_train = []\n",
        "accuracies_train = []\n",
        "losses_val = []\n",
        "accuracies_val = []\n",
        "\n",
        "estimated_time = 0 # To estimate time of training\n",
        "train_size = len(X_train)\n",
        "val_size = len(X_val)\n",
        "\n",
        "for epoch in range(NB_EPOCHS):\n",
        "\n",
        "  print('EPOCH {}:'.format(epoch))\n",
        "  start = time.time()\n",
        "  index = batch_size\n",
        "\n",
        "  #---------------------------------------------------------------------------\n",
        "  #                                   Training\n",
        "  #---------------------------------------------------------------------------\n",
        "  # Training set\n",
        "  train_loss = []\n",
        "  train_acc = []\n",
        "\n",
        "  for batch_idx, batch in enumerate(train_dataloader):\n",
        "\n",
        "    # Data to GPU\n",
        "    tweet = batch[0].to(device)\n",
        "    sentiment = batch[1].to(device)\n",
        "\n",
        "    optimizer.zero_grad() # Resets gradients\n",
        "\n",
        "    # Combute predictions\n",
        "    predictions = model(tweet).squeeze(1)\n",
        "\n",
        "    # Compute loss and accuracy\n",
        "    loss = criterion(predictions, sentiment)\n",
        "    acc = binary_accuracy(predictions, sentiment)\n",
        "\n",
        "    # Backward pass\n",
        "    loss.backward()\n",
        "    # Optimize parameters\n",
        "    optimizer.step()\n",
        "\n",
        "    # Store loss anc accuracy for training \n",
        "    train_loss.append(loss.detach().item())\n",
        "    train_acc.append(acc.detach().item())\n",
        "\n",
        "    # Remove data from GPU\n",
        "    tweet.to('cpu')\n",
        "    sentiment.to('cpu')\n",
        "\n",
        "    # Update progress bar\n",
        "    time_left = estimated_time -(time.time() - start)\n",
        "    progressBar(loss, 0, time_left, (index/train_size)*100)\n",
        "    index = index + batch_size\n",
        "  \n",
        "  # Compute mean loss and accuracy for training epoch\n",
        "  mean_loss = sum(train_loss)/len(train_loss)\n",
        "  losses_train.append(mean_loss)\n",
        "  mean_acc = sum(train_acc)/len(train_acc)\n",
        "  accuracies_train.append(mean_acc)\n",
        "\n",
        "  # Progress bar\n",
        "  estimated_time = time.time() - start\n",
        "  progressBar(mean_loss, 0, 0, 100)\n",
        "\n",
        "  #---------------------------------------------------------------------------\n",
        "  #                                 Validation\n",
        "  #---------------------------------------------------------------------------\n",
        "  index_validation = batch_size\n",
        "\n",
        "  # Validation set\n",
        "  val_loss = []\n",
        "  val_acc = []\n",
        "\n",
        "  with torch.no_grad():\n",
        "    for batch_idx, batch in enumerate(val_dataloader):\n",
        "\n",
        "      # Data to GPU\n",
        "      tweet = batch[0].to(device)\n",
        "      sentiment = batch[1].to(device)\n",
        "\n",
        "      # Combute predictions\n",
        "      predictions = model(tweet).squeeze(1)\n",
        "\n",
        "      # Compute loss and accuracy\n",
        "      loss_val = criterion(predictions, sentiment)\n",
        "      acc_val = binary_accuracy(predictions, sentiment)\n",
        "\n",
        "      # Store loss and acccuracy for validation\n",
        "      val_loss.append(loss_val.detach().item())\n",
        "      val_acc.append(acc_val.detach().item())\n",
        "\n",
        "      # Remove data from GPU\n",
        "      tweet.to('cpu')\n",
        "      sentiment.to('cpu')\n",
        "\n",
        "      # Update progress bar\n",
        "      progressBar(mean_loss, loss_val, time_left, (index_validation/val_size)*100)\n",
        "      index_validation = index_validation + batch_size\n",
        "\n",
        "    # Compute mean loss and accuracy for validation epoch\n",
        "    mean_loss_val = sum(val_loss)/len(val_loss)\n",
        "    losses_val.append(mean_loss_val)\n",
        "    mean_acc_val = sum(val_acc)/len(val_acc)\n",
        "    accuracies_val.append(mean_acc_val)\n",
        "\n",
        "    # EARLY STOPPING\n",
        "    if mean_loss_val < min(losses_val):\n",
        "      print(\"Validation loss decreased\")\n",
        "      epochs_no_improve = 0\n",
        "    else:\n",
        "      epochs_no_improve += 1\n",
        "      if epochs_no_improve == patience:\n",
        "        print(\"Early stopping!\")\n",
        "        early_stop = True\n",
        "        # Save model and break\n",
        "        saveModel(model, optimizer)\n",
        "        break\n",
        "\n",
        "\n",
        "    # Display useful information\n",
        "    estimated_time = time.time() - start\n",
        "    progressBar(mean_loss, mean_loss_val, 0, 100)\n",
        "    print(\"\\n\")\n",
        "\n",
        "    # Automatic save of the model\n",
        "    if (epoch+1) in checkpoints:\n",
        "      saveModel(model, optimizer)\n",
        "      \n",
        "# Information over terminal\n",
        "print(\"---------------------------------------------------------------------\")\n",
        "print(\"               Finished training and model saved                     \")\n",
        "print(\"---------------------------------------------------------------------\")\n"
      ]
    },
    {
      "cell_type": "code",
      "execution_count": null,
      "metadata": {
        "colab": {
          "base_uri": "https://localhost:8080/",
          "height": 312
        },
        "id": "181-MlvGIvZN",
        "outputId": "361b1cfe-f468-48bd-ca73-bd2556543f17"
      },
      "outputs": [
        {
          "output_type": "execute_result",
          "data": {
            "text/plain": [
              "<matplotlib.legend.Legend at 0x7f87b5699050>"
            ]
          },
          "metadata": {},
          "execution_count": 116
        },
        {
          "output_type": "display_data",
          "data": {
            "text/plain": [
              "<Figure size 432x288 with 1 Axes>"
            ],
            "image/png": "[encoded data removed]"
          },
          "metadata": {
            "needs_background": "light"
          }
        }
      ],
      "source": [
        "plt.title(\"Loss\")\n",
        "plt.xlabel(\"Epoch\")\n",
        "plt.ylabel(\"Loss\")\n",
        "plt.plot(losses_train, label=\"Training loss\")\n",
        "plt.plot(losses_val, label=\"Validation loss\")\n",
        "plt.legend()"
      ]
    },
    {
      "cell_type": "code",
      "execution_count": null,
      "metadata": {
        "colab": {
          "base_uri": "https://localhost:8080/",
          "height": 295
        },
        "id": "rUSDmG9cHdHI",
        "outputId": "4983fe49-7b30-4287-c5d9-24e2504d72dd"
      },
      "outputs": [
        {
          "output_type": "display_data",
          "data": {
            "text/plain": [
              "<Figure size 432x288 with 1 Axes>"
            ],
            "image/png": "[encoded data removed]"
          },
          "metadata": {
            "needs_background": "light"
          }
        }
      ],
      "source": [
        "plt.title(\"Accuracy\")\n",
        "plt.xlabel(\"Epoch\")\n",
        "plt.ylabel(\"Accuracy\")\n",
        "plt.plot(accuracies_train, label=\"train\")\n",
        "plt.plot(accuracies_val, label=\"validation\")\n",
        "plt.legend()\n",
        "plt.show()\n"
      ]
    },
    {
      "cell_type": "markdown",
      "metadata": {
        "id": "QjuhVjdQoSRy"
      },
      "source": [
        "## Load Model\n",
        "If you want to reload the weights of a previous model for testing of starting training again : "
      ]
    },
    {
      "cell_type": "code",
      "execution_count": null,
      "metadata": {
        "colab": {
          "base_uri": "https://localhost:8080/",
          "height": 217
        },
        "id": "i_maD8sxoTTO",
        "outputId": "973fe23a-b488-4ff3-afab-c5b184c9c488"
      },
      "outputs": [
        {
          "output_type": "error",
          "ename": "NameError",
          "evalue": "ignored",
          "traceback": [
            "\u001b[0;31m---------------------------------------------------------------------------\u001b[0m",
            "\u001b[0;31mNameError\u001b[0m                                 Traceback (most recent call last)",
            "\u001b[0;32m<ipython-input-6-3a1d992f1d84>\u001b[0m in \u001b[0;36m<module>\u001b[0;34m\u001b[0m\n\u001b[1;32m      2\u001b[0m \u001b[0mmodel_path\u001b[0m \u001b[0;34m=\u001b[0m \u001b[0mroot\u001b[0m \u001b[0;34m+\u001b[0m \u001b[0;34m\"/Models/\"\u001b[0m \u001b[0;34m+\u001b[0m \u001b[0mmodel_str\u001b[0m \u001b[0;34m+\u001b[0m \u001b[0;34m\".pth\"\u001b[0m\u001b[0;34m\u001b[0m\u001b[0;34m\u001b[0m\u001b[0m\n\u001b[1;32m      3\u001b[0m \u001b[0;31m#model = RNN(embedding, HIDDEN_DIM, DROPOUT, BIDIRECTIONAL, PADDING_ID, NUM_LAYERS, \"LSTM\")\u001b[0m\u001b[0;34m\u001b[0m\u001b[0;34m\u001b[0m\u001b[0;34m\u001b[0m\u001b[0m\n\u001b[0;32m----> 4\u001b[0;31m \u001b[0mmodel\u001b[0m\u001b[0;34m.\u001b[0m\u001b[0mload_state_dict\u001b[0m\u001b[0;34m(\u001b[0m\u001b[0mtorch\u001b[0m\u001b[0;34m.\u001b[0m\u001b[0mload\u001b[0m\u001b[0;34m(\u001b[0m\u001b[0mmodel_path\u001b[0m\u001b[0;34m,\u001b[0m \u001b[0mmap_location\u001b[0m\u001b[0;34m=\u001b[0m\u001b[0mdevice\u001b[0m\u001b[0;34m)\u001b[0m\u001b[0;34m)\u001b[0m\u001b[0;34m\u001b[0m\u001b[0;34m\u001b[0m\u001b[0m\n\u001b[0m\u001b[1;32m      5\u001b[0m \u001b[0mmodel\u001b[0m\u001b[0;34m.\u001b[0m\u001b[0meval\u001b[0m\u001b[0;34m(\u001b[0m\u001b[0;34m)\u001b[0m\u001b[0;34m\u001b[0m\u001b[0;34m\u001b[0m\u001b[0m\n",
            "\u001b[0;31mNameError\u001b[0m: name 'model' is not defined"
          ]
        }
      ],
      "source": [
        "model_str = \"Wed Nov 02\"\n",
        "model_path = root + \"/Models/\" + model_str + \".pth\"\n",
        "#model = RNN(embedding, HIDDEN_DIM, DROPOUT, BIDIRECTIONAL, PADDING_ID, NUM_LAYERS, \"LSTM\")\n",
        "model.load_state_dict(torch.load(model_path, map_location=device))\n",
        "model.eval()"
      ]
    },
    {
      "cell_type": "code",
      "execution_count": null,
      "metadata": {
        "id": "MYqmxOeQYJrK",
        "outputId": "a75d11e5-222a-42a1-cfa0-133e875d2900"
      },
      "outputs": [
        {
          "data": {
            "text/plain": [
              "RNN(\n",
              "  (embedding): Embedding(393023, 300, padding_idx=289283)\n",
              "  (model): LSTM(300, 128, batch_first=True, dropout=0.2, bidirectional=True)\n",
              "  (fc): Linear(in_features=256, out_features=2, bias=True)\n",
              "  (dropout): Dropout(p=0.2, inplace=False)\n",
              ")"
            ]
          },
          "execution_count": 49,
          "metadata": {},
          "output_type": "execute_result"
        }
      ],
      "source": [
        "model.to(device)"
      ]
    },
    {
      "cell_type": "markdown",
      "metadata": {
        "id": "qArMwrpwXTsl"
      },
      "source": [
        "# Test model"
      ]
    },
    {
      "cell_type": "markdown",
      "metadata": {
        "id": "OTFdt4uf5Wiz"
      },
      "source": [
        "### Evaluate the model with the test set"
      ]
    },
    {
      "cell_type": "code",
      "execution_count": null,
      "metadata": {
        "id": "qClHWSRXXgIf"
      },
      "outputs": [],
      "source": [
        "def positive_negative_count(preds, y):\n",
        "  \"\"\"\n",
        "  Returns the accuracy per batch\n",
        "  \"\"\"\n",
        "  pos_cnt, neg_cnt, pos_correct, neg_correct = 0, 0, 0, 0\n",
        "\n",
        "  prob_preds = torch.nn.Softmax(dim=-1)(preds)\n",
        "  final_preds = torch.argmax(prob_preds, dim=1)\n",
        "\n",
        "  numpy_preds = final_preds.cpu().numpy()\n",
        "  numpy_y = y.cpu().numpy()\n",
        "\n",
        "  for i in range(len(y)):\n",
        "    if numpy_preds[i] == numpy_y[i]:\n",
        "      if numpy_y[i] == 0:\n",
        "        neg_correct += 1\n",
        "      else:\n",
        "        pos_correct += 1\n",
        "\n",
        "    if numpy_y[i] == 0:\n",
        "      neg_cnt += 1\n",
        "    else:\n",
        "      pos_cnt += 1\n",
        "\n",
        "  return neg_correct, neg_cnt , pos_correct, pos_cnt"
      ]
    },
    {
      "cell_type": "code",
      "execution_count": null,
      "metadata": {
        "colab": {
          "base_uri": "https://localhost:8080/"
        },
        "id": "cn3xHSv5XVvr",
        "outputId": "2bb7864e-aa0c-402f-d671-0adad9026f4b"
      },
      "outputs": [
        {
          "output_type": "stream",
          "name": "stdout",
          "text": [
            "------------------------------------------------------------\n",
            "                   classified positive   classified negative \n",
            "------------------------------------------------------------\n",
            " Actual positive      2121                   294\n",
            " Actual negative      398                   2187\n",
            "------------------------------------------------------------\n",
            "Acuracy:  0.8616\n",
            "Precision:  0.8782608695652174\n",
            "Recall:  0.8460348162475823\n"
          ]
        }
      ],
      "source": [
        "neg_correct = 0\n",
        "neg_cnt = 0\n",
        "pos_correct = 0\n",
        "pos_cnt = 0\n",
        "\n",
        "with torch.no_grad():\n",
        "  for batch_idx, batch in enumerate(test_dataloader):\n",
        "    # Data to GPU\n",
        "    tweet = batch[0].to(device)\n",
        "    sentiment = batch[1].to(device)\n",
        "\n",
        "    predictions = model(tweet).squeeze(1)\n",
        "\n",
        "    neg_correct_tmp, neg_cnt_tmp, pos_correct_tmp, pos_cnt_tmp = positive_negative_count(predictions, sentiment)\n",
        "\n",
        "    neg_correct += neg_correct_tmp\n",
        "    neg_cnt += neg_cnt_tmp\n",
        "    pos_correct += pos_correct_tmp\n",
        "    pos_cnt += pos_cnt_tmp\n",
        "  \n",
        "\n",
        "    # Remove data from GPU\n",
        "    tweet.to('cpu')\n",
        "    sentiment.to('cpu')\n",
        "\n",
        "print(\"------------------------------------------------------------\")\n",
        "print(\"                   classified positive   classified negative \")\n",
        "print(\"------------------------------------------------------------\")\n",
        "print(\" Actual positive     \", pos_correct, \"                 \", neg_cnt-neg_correct)\n",
        "print(\" Actual negative     \", pos_cnt-pos_correct, \"                 \", neg_correct)\n",
        "print(\"------------------------------------------------------------\")\n",
        "\n",
        "print(\"Acuracy: \", (pos_correct+neg_correct)/(pos_cnt+neg_cnt))\n",
        "print(\"Recall: \", pos_correct/(pos_correct + neg_cnt-neg_correct))\n",
        "print(\"Precision: \", pos_correct/(pos_correct + pos_cnt-pos_correct))"
      ]
    },
    {
      "cell_type": "markdown",
      "metadata": {
        "id": "H4kIUQ6d5aex"
      },
      "source": [
        "### Predict on a given sentence"
      ]
    },
    {
      "cell_type": "code",
      "execution_count": null,
      "metadata": {
        "id": "L0jOCMDMmhq9"
      },
      "outputs": [],
      "source": [
        "def predict(sentence):\n",
        "  splitted = sentence.split(\" \")\n",
        "  Sentence_tokens = padding_and_encode(splitted, seq_length)\n",
        "  seq = [Sentence_tokens]\n",
        "  Sentence_tokens = torch.tensor(seq).to(device)\n",
        "  \n",
        "  with torch.no_grad():\n",
        "    prediction = model(Sentence_tokens).squeeze(1)\n",
        "\n",
        "  prob_pred = torch.nn.Softmax(dim=-1)(prediction)\n",
        "  final_pred = torch.argmax(prob_pred, dim=1)\n",
        "  f = final_pred.cpu().numpy()\n",
        "\n",
        "  if(f[0] == 1):\n",
        "    print(\"Positive\")\n",
        "  else:\n",
        "    print(\"Negative\")"
      ]
    },
    {
      "cell_type": "code",
      "execution_count": null,
      "metadata": {
        "colab": {
          "base_uri": "https://localhost:8080/"
        },
        "id": "4f4-FIf9nDmC",
        "outputId": "758e2e43-2f16-4e5d-c652-70112a9a4556"
      },
      "outputs": [
        {
          "output_type": "stream",
          "name": "stdout",
          "text": [
            "Positive\n",
            "Positive\n",
            "Positive\n",
            "Negative\n",
            "Negative\n"
          ]
        }
      ],
      "source": [
        "predict(\"I was very disappointed with this series. It had lots of cool graphics and that's about it. The level of detail it went into was minimal, and I always got the feeling the audience was being patronized -- there was a lot of what seemed to me as \")\n",
        "predict(\"Great just great! The West Coast got Dirty Harry Callahan, the East Coast got Sharky. Burt Reynolds plays Sharky in \")\n",
        "predict(\"I loved that movie\")\n",
        "predict(\"I hate you\")\n",
        "predict(\"you are ugly\")"
      ]
    }
  ],
  "metadata": {
    "colab": {
      "collapsed_sections": [],
      "provenance": []
    },
    "gpuClass": "standard",
    "kernelspec": {
      "display_name": "Python 3 (ipykernel)",
      "language": "python",
      "name": "python3"
    },
    "language_info": {
      "codemirror_mode": {
        "name": "ipython",
        "version": 3
      },
      "file_extension": ".py",
      "mimetype": "text/x-python",
      "name": "python",
      "nbconvert_exporter": "python",
      "pygments_lexer": "ipython3",
      "version": "3.9.7"
    },
    "vscode": {
      "interpreter": {
        "hash": "ef1b119d281e6c8960c7e46c636ce2a9ec354a3da52520939e5f0bfd0bbd7c37"
      }
    }
  },
  "nbformat": 4,
  "nbformat_minor": 0
}